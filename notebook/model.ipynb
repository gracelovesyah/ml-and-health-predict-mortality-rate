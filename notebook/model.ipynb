{
 "cells": [
  {
   "cell_type": "markdown",
   "metadata": {},
   "source": [
    "# Baseline Model Exploration\n",
    "\n",
    "*by Grace*\n",
    "\n",
    "Hello Team,\n",
    "\n",
    "In this notebook, I've embarked on an initial exploration of various baseline models for our binary classification task. The primary goal was to establish a foundational understanding of the performance we can expect from some common algorithms, without any extensive tuning or optimization.\n",
    "\n",
    "## Models Explored:\n",
    "- **Linear Regression**: Used as a binary classifier with a threshold.\n",
    "- **Logistic Regression**: A standard approach for binary classification tasks.\n",
    "- **Dummy Classifier**: Provides predictions based on simple rules, serving as a basic baseline.\n",
    "- **Decision Tree Classifier**: A simple and interpretable model.\n",
    "- **Random Forest Classifier**: An ensemble method using multiple decision trees.\n",
    "- **Support Vector Machine (SVM)**: Explored with a linear kernel.\n",
    "\n",
    "## Next Steps:\n",
    "- These models can serve as a starting point. There's ample room for optimization, including hyperparameter tuning, feature engineering, and exploring more complex models.\n",
    "- It would be beneficial to delve deeper into each model's performance metrics, especially if our dataset has class imbalances.\n",
    "- Feedback and collaboration are encouraged. If anyone has insights or suggestions on improving these baseline models or wants to introduce other potential models, please share!\n",
    "\n",
    "Let's collaborate and refine our approach to achieve the best model performance!"
   ]
  },
  {
   "cell_type": "code",
   "execution_count": 1,
   "metadata": {},
   "outputs": [],
   "source": [
    "import pandas as pd"
   ]
  },
  {
   "cell_type": "code",
   "execution_count": 16,
   "metadata": {},
   "outputs": [],
   "source": [
    "df = pd.read_csv('../data/df_final_AKI.csv')"
   ]
  },
  {
   "cell_type": "markdown",
   "metadata": {},
   "source": [
    "## EDA\n",
    "- discover imbalance trend"
   ]
  },
  {
   "cell_type": "code",
   "execution_count": 17,
   "metadata": {},
   "outputs": [
    {
     "data": {
      "text/plain": [
       "Index(['Unnamed: 0.1', 'subject_id', 'gender', 'dod',\n",
       "       'Arterial Blood Pressure diastolic', 'Arterial Blood Pressure systolic',\n",
       "       'Heart Rate', 'Respiratory Rate', 'Albumin', 'Creatinine', 'INR(PT)',\n",
       "       'PT', 'Urea Nitrogen', 'Unnamed: 0', 'diabetes', 'hypertension',\n",
       "       'chronic_kidney_disease', 'sepsis'],\n",
       "      dtype='object')"
      ]
     },
     "execution_count": 17,
     "metadata": {},
     "output_type": "execute_result"
    }
   ],
   "source": [
    "df.columns"
   ]
  },
  {
   "cell_type": "code",
   "execution_count": 18,
   "metadata": {},
   "outputs": [
    {
     "data": {
      "text/html": [
       "<div>\n",
       "<style scoped>\n",
       "    .dataframe tbody tr th:only-of-type {\n",
       "        vertical-align: middle;\n",
       "    }\n",
       "\n",
       "    .dataframe tbody tr th {\n",
       "        vertical-align: top;\n",
       "    }\n",
       "\n",
       "    .dataframe thead th {\n",
       "        text-align: right;\n",
       "    }\n",
       "</style>\n",
       "<table border=\"1\" class=\"dataframe\">\n",
       "  <thead>\n",
       "    <tr style=\"text-align: right;\">\n",
       "      <th></th>\n",
       "      <th>Unnamed: 0.1</th>\n",
       "      <th>subject_id</th>\n",
       "      <th>gender</th>\n",
       "      <th>dod</th>\n",
       "      <th>Arterial Blood Pressure diastolic</th>\n",
       "      <th>Arterial Blood Pressure systolic</th>\n",
       "      <th>Heart Rate</th>\n",
       "      <th>Respiratory Rate</th>\n",
       "      <th>Albumin</th>\n",
       "      <th>Creatinine</th>\n",
       "      <th>INR(PT)</th>\n",
       "      <th>PT</th>\n",
       "      <th>Urea Nitrogen</th>\n",
       "      <th>Unnamed: 0</th>\n",
       "      <th>diabetes</th>\n",
       "      <th>hypertension</th>\n",
       "      <th>chronic_kidney_disease</th>\n",
       "      <th>sepsis</th>\n",
       "    </tr>\n",
       "  </thead>\n",
       "  <tbody>\n",
       "    <tr>\n",
       "      <th>count</th>\n",
       "      <td>9434.000000</td>\n",
       "      <td>9.434000e+03</td>\n",
       "      <td>9434.000000</td>\n",
       "      <td>9434.000000</td>\n",
       "      <td>9434.000000</td>\n",
       "      <td>9434.000000</td>\n",
       "      <td>9434.000000</td>\n",
       "      <td>9434.000000</td>\n",
       "      <td>9434.000000</td>\n",
       "      <td>9434.000000</td>\n",
       "      <td>9434.000000</td>\n",
       "      <td>9434.000000</td>\n",
       "      <td>9434.000000</td>\n",
       "      <td>9434.000000</td>\n",
       "      <td>9434.000000</td>\n",
       "      <td>9434.000000</td>\n",
       "      <td>9434.000000</td>\n",
       "      <td>9434.000000</td>\n",
       "    </tr>\n",
       "    <tr>\n",
       "      <th>mean</th>\n",
       "      <td>4716.500000</td>\n",
       "      <td>1.502709e+07</td>\n",
       "      <td>0.400042</td>\n",
       "      <td>0.419440</td>\n",
       "      <td>66.002544</td>\n",
       "      <td>116.090842</td>\n",
       "      <td>85.247615</td>\n",
       "      <td>19.695887</td>\n",
       "      <td>3.454855</td>\n",
       "      <td>1.820850</td>\n",
       "      <td>1.470054</td>\n",
       "      <td>16.133072</td>\n",
       "      <td>31.583528</td>\n",
       "      <td>4716.500000</td>\n",
       "      <td>0.258851</td>\n",
       "      <td>0.528620</td>\n",
       "      <td>0.380856</td>\n",
       "      <td>0.114904</td>\n",
       "    </tr>\n",
       "    <tr>\n",
       "      <th>std</th>\n",
       "      <td>2723.505554</td>\n",
       "      <td>2.898335e+06</td>\n",
       "      <td>0.489933</td>\n",
       "      <td>0.493494</td>\n",
       "      <td>876.657204</td>\n",
       "      <td>17.296018</td>\n",
       "      <td>18.435874</td>\n",
       "      <td>5.994755</td>\n",
       "      <td>0.714298</td>\n",
       "      <td>1.803449</td>\n",
       "      <td>0.769494</td>\n",
       "      <td>7.987442</td>\n",
       "      <td>23.570494</td>\n",
       "      <td>2723.505554</td>\n",
       "      <td>0.438027</td>\n",
       "      <td>0.499207</td>\n",
       "      <td>0.485623</td>\n",
       "      <td>0.318922</td>\n",
       "    </tr>\n",
       "    <tr>\n",
       "      <th>min</th>\n",
       "      <td>0.000000</td>\n",
       "      <td>1.000201e+07</td>\n",
       "      <td>0.000000</td>\n",
       "      <td>0.000000</td>\n",
       "      <td>0.000000</td>\n",
       "      <td>0.000000</td>\n",
       "      <td>0.000000</td>\n",
       "      <td>0.000000</td>\n",
       "      <td>0.200000</td>\n",
       "      <td>0.100000</td>\n",
       "      <td>0.500000</td>\n",
       "      <td>8.400000</td>\n",
       "      <td>1.000000</td>\n",
       "      <td>0.000000</td>\n",
       "      <td>0.000000</td>\n",
       "      <td>0.000000</td>\n",
       "      <td>0.000000</td>\n",
       "      <td>0.000000</td>\n",
       "    </tr>\n",
       "    <tr>\n",
       "      <th>25%</th>\n",
       "      <td>2358.250000</td>\n",
       "      <td>1.252415e+07</td>\n",
       "      <td>0.000000</td>\n",
       "      <td>0.000000</td>\n",
       "      <td>55.000000</td>\n",
       "      <td>112.000000</td>\n",
       "      <td>72.000000</td>\n",
       "      <td>16.000000</td>\n",
       "      <td>3.000000</td>\n",
       "      <td>0.900000</td>\n",
       "      <td>1.100000</td>\n",
       "      <td>12.200000</td>\n",
       "      <td>16.000000</td>\n",
       "      <td>2358.250000</td>\n",
       "      <td>0.000000</td>\n",
       "      <td>0.000000</td>\n",
       "      <td>0.000000</td>\n",
       "      <td>0.000000</td>\n",
       "    </tr>\n",
       "    <tr>\n",
       "      <th>50%</th>\n",
       "      <td>4716.500000</td>\n",
       "      <td>1.507287e+07</td>\n",
       "      <td>0.000000</td>\n",
       "      <td>0.000000</td>\n",
       "      <td>56.000000</td>\n",
       "      <td>115.000000</td>\n",
       "      <td>84.000000</td>\n",
       "      <td>19.000000</td>\n",
       "      <td>3.500000</td>\n",
       "      <td>1.200000</td>\n",
       "      <td>1.200000</td>\n",
       "      <td>13.700000</td>\n",
       "      <td>24.000000</td>\n",
       "      <td>4716.500000</td>\n",
       "      <td>0.000000</td>\n",
       "      <td>1.000000</td>\n",
       "      <td>0.000000</td>\n",
       "      <td>0.000000</td>\n",
       "    </tr>\n",
       "    <tr>\n",
       "      <th>75%</th>\n",
       "      <td>7074.750000</td>\n",
       "      <td>1.756300e+07</td>\n",
       "      <td>1.000000</td>\n",
       "      <td>1.000000</td>\n",
       "      <td>57.000000</td>\n",
       "      <td>117.000000</td>\n",
       "      <td>96.000000</td>\n",
       "      <td>23.000000</td>\n",
       "      <td>4.000000</td>\n",
       "      <td>2.000000</td>\n",
       "      <td>1.500000</td>\n",
       "      <td>16.500000</td>\n",
       "      <td>40.000000</td>\n",
       "      <td>7074.750000</td>\n",
       "      <td>1.000000</td>\n",
       "      <td>1.000000</td>\n",
       "      <td>1.000000</td>\n",
       "      <td>0.000000</td>\n",
       "    </tr>\n",
       "    <tr>\n",
       "      <th>max</th>\n",
       "      <td>9433.000000</td>\n",
       "      <td>1.999983e+07</td>\n",
       "      <td>1.000000</td>\n",
       "      <td>1.000000</td>\n",
       "      <td>85200.000000</td>\n",
       "      <td>283.000000</td>\n",
       "      <td>187.000000</td>\n",
       "      <td>72.000000</td>\n",
       "      <td>5.700000</td>\n",
       "      <td>22.700000</td>\n",
       "      <td>13.600000</td>\n",
       "      <td>150.000000</td>\n",
       "      <td>260.000000</td>\n",
       "      <td>9433.000000</td>\n",
       "      <td>1.000000</td>\n",
       "      <td>1.000000</td>\n",
       "      <td>1.000000</td>\n",
       "      <td>1.000000</td>\n",
       "    </tr>\n",
       "  </tbody>\n",
       "</table>\n",
       "</div>"
      ],
      "text/plain": [
       "       Unnamed: 0.1    subject_id       gender          dod  \\\n",
       "count   9434.000000  9.434000e+03  9434.000000  9434.000000   \n",
       "mean    4716.500000  1.502709e+07     0.400042     0.419440   \n",
       "std     2723.505554  2.898335e+06     0.489933     0.493494   \n",
       "min        0.000000  1.000201e+07     0.000000     0.000000   \n",
       "25%     2358.250000  1.252415e+07     0.000000     0.000000   \n",
       "50%     4716.500000  1.507287e+07     0.000000     0.000000   \n",
       "75%     7074.750000  1.756300e+07     1.000000     1.000000   \n",
       "max     9433.000000  1.999983e+07     1.000000     1.000000   \n",
       "\n",
       "       Arterial Blood Pressure diastolic  Arterial Blood Pressure systolic  \\\n",
       "count                        9434.000000                       9434.000000   \n",
       "mean                           66.002544                        116.090842   \n",
       "std                           876.657204                         17.296018   \n",
       "min                             0.000000                          0.000000   \n",
       "25%                            55.000000                        112.000000   \n",
       "50%                            56.000000                        115.000000   \n",
       "75%                            57.000000                        117.000000   \n",
       "max                         85200.000000                        283.000000   \n",
       "\n",
       "        Heart Rate  Respiratory Rate      Albumin   Creatinine      INR(PT)  \\\n",
       "count  9434.000000       9434.000000  9434.000000  9434.000000  9434.000000   \n",
       "mean     85.247615         19.695887     3.454855     1.820850     1.470054   \n",
       "std      18.435874          5.994755     0.714298     1.803449     0.769494   \n",
       "min       0.000000          0.000000     0.200000     0.100000     0.500000   \n",
       "25%      72.000000         16.000000     3.000000     0.900000     1.100000   \n",
       "50%      84.000000         19.000000     3.500000     1.200000     1.200000   \n",
       "75%      96.000000         23.000000     4.000000     2.000000     1.500000   \n",
       "max     187.000000         72.000000     5.700000    22.700000    13.600000   \n",
       "\n",
       "                PT  Urea Nitrogen   Unnamed: 0     diabetes  hypertension  \\\n",
       "count  9434.000000    9434.000000  9434.000000  9434.000000   9434.000000   \n",
       "mean     16.133072      31.583528  4716.500000     0.258851      0.528620   \n",
       "std       7.987442      23.570494  2723.505554     0.438027      0.499207   \n",
       "min       8.400000       1.000000     0.000000     0.000000      0.000000   \n",
       "25%      12.200000      16.000000  2358.250000     0.000000      0.000000   \n",
       "50%      13.700000      24.000000  4716.500000     0.000000      1.000000   \n",
       "75%      16.500000      40.000000  7074.750000     1.000000      1.000000   \n",
       "max     150.000000     260.000000  9433.000000     1.000000      1.000000   \n",
       "\n",
       "       chronic_kidney_disease       sepsis  \n",
       "count             9434.000000  9434.000000  \n",
       "mean                 0.380856     0.114904  \n",
       "std                  0.485623     0.318922  \n",
       "min                  0.000000     0.000000  \n",
       "25%                  0.000000     0.000000  \n",
       "50%                  0.000000     0.000000  \n",
       "75%                  1.000000     0.000000  \n",
       "max                  1.000000     1.000000  "
      ]
     },
     "execution_count": 18,
     "metadata": {},
     "output_type": "execute_result"
    }
   ],
   "source": [
    "df.describe()"
   ]
  },
  {
   "cell_type": "code",
   "execution_count": 19,
   "metadata": {},
   "outputs": [
    {
     "data": {
      "image/png": "[encoded data removed]",
      "text/plain": [
       "<Figure size 720x504 with 1 Axes>"
      ]
     },
     "metadata": {
      "needs_background": "light"
     },
     "output_type": "display_data"
    }
   ],
   "source": [
    "import pandas as pd\n",
    "import matplotlib.pyplot as plt\n",
    "\n",
    "# Create a crosstab of 'dod' and 'gender'\n",
    "ct = pd.crosstab(df['dod'], df['gender'])\n",
    "\n",
    "# Plot the crosstab as a stacked bar chart\n",
    "ct.plot(kind='bar', stacked=True, figsize=(10, 7))\n",
    "\n",
    "# Customize the plot\n",
    "plt.title('Distribution of Alive and Dead by Gender')\n",
    "plt.xlabel('Status (0: Dead, 1: Alive)')\n",
    "plt.ylabel('Count')\n",
    "plt.xticks(rotation=0)\n",
    "plt.legend(title='Gender', labels=['Male', 'Female'])  # Adjust labels if needed\n",
    "\n",
    "# Display the plot\n",
    "plt.show()\n"
   ]
  },
  {
   "cell_type": "code",
   "execution_count": 6,
   "metadata": {},
   "outputs": [],
   "source": [
    "X = df.drop(columns=['dod', 'Unnamed: 0', 'subject_id'])\n",
    "y = df['dod']\n",
    "\n",
    "from sklearn.model_selection import train_test_split\n",
    "X_train, X_test, y_train, y_test = train_test_split(X, y, test_size=0.2, random_state=42)\n"
   ]
  },
  {
   "cell_type": "markdown",
   "metadata": {},
   "source": [
    "# 1. Linear Regression:\n"
   ]
  },
  {
   "cell_type": "code",
   "execution_count": 7,
   "metadata": {},
   "outputs": [
    {
     "name": "stdout",
     "output_type": "stream",
     "text": [
      "Linear Regression Evaluation:\n",
      "Accuracy: 0.6698706099815157\n",
      "Classification Report:\n",
      "               precision    recall  f1-score   support\n",
      "\n",
      "           0       0.69      0.86      0.76      1677\n",
      "           1       0.61      0.36      0.45      1028\n",
      "\n",
      "    accuracy                           0.67      2705\n",
      "   macro avg       0.65      0.61      0.61      2705\n",
      "weighted avg       0.66      0.67      0.65      2705\n",
      "\n",
      "Confusion Matrix:\n",
      " [[1440  237]\n",
      " [ 656  372]]\n"
     ]
    }
   ],
   "source": [
    "from sklearn.linear_model import LinearRegression\n",
    "from sklearn.metrics import accuracy_score, classification_report, confusion_matrix\n",
    "\n",
    "# Train the model\n",
    "lin_reg = LinearRegression()\n",
    "lin_reg.fit(X_train, y_train)\n",
    "\n",
    "# Predict\n",
    "y_pred_lin = lin_reg.predict(X_test)\n",
    "\n",
    "# Convert predictions to binary using 0.5 as threshold\n",
    "y_pred_bin = [1 if y > 0.5 else 0 for y in y_pred_lin]\n",
    "\n",
    "# Evaluate\n",
    "print(\"Linear Regression Evaluation:\")\n",
    "print(\"Accuracy:\", accuracy_score(y_test, y_pred_bin))\n",
    "print(\"Classification Report:\\n\", classification_report(y_test, y_pred_bin))\n",
    "print(\"Confusion Matrix:\\n\", confusion_matrix(y_test, y_pred_bin))\n"
   ]
  },
  {
   "cell_type": "markdown",
   "metadata": {},
   "source": [
    "# 2. Logistic Regression:"
   ]
  },
  {
   "cell_type": "code",
   "execution_count": 8,
   "metadata": {},
   "outputs": [
    {
     "name": "stdout",
     "output_type": "stream",
     "text": [
      "\n",
      "Logistic Regression Evaluation:\n",
      "Accuracy: 0.6720887245841035\n",
      "Classification Report:\n",
      "               precision    recall  f1-score   support\n",
      "\n",
      "           0       0.69      0.85      0.76      1677\n",
      "           1       0.61      0.37      0.46      1028\n",
      "\n",
      "    accuracy                           0.67      2705\n",
      "   macro avg       0.65      0.61      0.61      2705\n",
      "weighted avg       0.66      0.67      0.65      2705\n",
      "\n",
      "Confusion Matrix:\n",
      " [[1433  244]\n",
      " [ 643  385]]\n"
     ]
    }
   ],
   "source": [
    "from sklearn.linear_model import LogisticRegression\n",
    "\n",
    "# Train the model\n",
    "log_reg = LogisticRegression(max_iter=10000)  # max_iter increased to ensure convergence\n",
    "log_reg.fit(X_train, y_train)\n",
    "\n",
    "# Predict\n",
    "y_pred_log = log_reg.predict(X_test)\n",
    "\n",
    "# Evaluate\n",
    "print(\"\\nLogistic Regression Evaluation:\")\n",
    "print(\"Accuracy:\", accuracy_score(y_test, y_pred_log))\n",
    "print(\"Classification Report:\\n\", classification_report(y_test, y_pred_log))\n",
    "print(\"Confusion Matrix:\\n\", confusion_matrix(y_test, y_pred_log))\n"
   ]
  },
  {
   "cell_type": "markdown",
   "metadata": {},
   "source": [
    "# 3. Decision Tree Classifier"
   ]
  },
  {
   "cell_type": "code",
   "execution_count": 9,
   "metadata": {},
   "outputs": [
    {
     "name": "stdout",
     "output_type": "stream",
     "text": [
      "Decision Tree Classifier Evaluation:\n",
      "Accuracy: 0.6025878003696857\n",
      "Classification Report:\n",
      "               precision    recall  f1-score   support\n",
      "\n",
      "           0       0.68      0.67      0.68      1677\n",
      "           1       0.48      0.49      0.48      1028\n",
      "\n",
      "    accuracy                           0.60      2705\n",
      "   macro avg       0.58      0.58      0.58      2705\n",
      "weighted avg       0.60      0.60      0.60      2705\n",
      "\n",
      "Confusion Matrix:\n",
      " [[1126  551]\n",
      " [ 524  504]]\n"
     ]
    }
   ],
   "source": [
    "from sklearn.tree import DecisionTreeClassifier\n",
    "\n",
    "tree = DecisionTreeClassifier()\n",
    "tree.fit(X_train, y_train)\n",
    "y_pred_tree = tree.predict(X_test)\n",
    "\n",
    "print(\"Decision Tree Classifier Evaluation:\")\n",
    "print(\"Accuracy:\", accuracy_score(y_test, y_pred_tree))\n",
    "print(\"Classification Report:\\n\", classification_report(y_test, y_pred_tree))\n",
    "print(\"Confusion Matrix:\\n\", confusion_matrix(y_test, y_pred_tree))\n"
   ]
  },
  {
   "cell_type": "markdown",
   "metadata": {},
   "source": [
    "# 4. Random Forest Classifier"
   ]
  },
  {
   "cell_type": "code",
   "execution_count": 10,
   "metadata": {},
   "outputs": [
    {
     "name": "stdout",
     "output_type": "stream",
     "text": [
      "Random Forest Classifier Evaluation:\n",
      "Accuracy: 0.6787430683918669\n",
      "Classification Report:\n",
      "               precision    recall  f1-score   support\n",
      "\n",
      "           0       0.70      0.84      0.76      1677\n",
      "           1       0.61      0.42      0.50      1028\n",
      "\n",
      "    accuracy                           0.68      2705\n",
      "   macro avg       0.66      0.63      0.63      2705\n",
      "weighted avg       0.67      0.68      0.66      2705\n",
      "\n",
      "Confusion Matrix:\n",
      " [[1408  269]\n",
      " [ 600  428]]\n"
     ]
    }
   ],
   "source": [
    "from sklearn.ensemble import RandomForestClassifier\n",
    "\n",
    "forest = RandomForestClassifier()\n",
    "forest.fit(X_train, y_train)\n",
    "y_pred_forest = forest.predict(X_test)\n",
    "\n",
    "print(\"Random Forest Classifier Evaluation:\")\n",
    "print(\"Accuracy:\", accuracy_score(y_test, y_pred_forest))\n",
    "print(\"Classification Report:\\n\", classification_report(y_test, y_pred_forest))\n",
    "print(\"Confusion Matrix:\\n\", confusion_matrix(y_test, y_pred_forest))\n"
   ]
  },
  {
   "cell_type": "markdown",
   "metadata": {},
   "source": [
    "# 5. SVM Classifier"
   ]
  },
  {
   "cell_type": "code",
   "execution_count": 11,
   "metadata": {},
   "outputs": [
    {
     "name": "stdout",
     "output_type": "stream",
     "text": [
      "SVM Classifier Evaluation:\n",
      "Accuracy: 0.6702402957486137\n",
      "Classification Report:\n",
      "               precision    recall  f1-score   support\n",
      "\n",
      "           0       0.68      0.89      0.77      1677\n",
      "           1       0.64      0.31      0.41      1028\n",
      "\n",
      "    accuracy                           0.67      2705\n",
      "   macro avg       0.66      0.60      0.59      2705\n",
      "weighted avg       0.66      0.67      0.63      2705\n",
      "\n",
      "Confusion Matrix:\n",
      " [[1499  178]\n",
      " [ 714  314]]\n"
     ]
    }
   ],
   "source": [
    "from sklearn.svm import SVC\n",
    "\n",
    "svm = SVC(kernel='linear')\n",
    "svm.fit(X_train, y_train)\n",
    "y_pred_svm = svm.predict(X_test)\n",
    "\n",
    "print(\"SVM Classifier Evaluation:\")\n",
    "print(\"Accuracy:\", accuracy_score(y_test, y_pred_svm))\n",
    "print(\"Classification Report:\\n\", classification_report(y_test, y_pred_svm))\n",
    "print(\"Confusion Matrix:\\n\", confusion_matrix(y_test, y_pred_svm))\n"
   ]
  },
  {
   "cell_type": "markdown",
   "metadata": {},
   "source": [
    "# 6. Deep Learning Approach: NN - MLP (unfinished)"
   ]
  },
  {
   "cell_type": "markdown",
   "metadata": {},
   "source": [
    "### Imbalance data handling\n",
    "- SMOTE\n",
    "- ADASYN"
   ]
  },
  {
   "cell_type": "code",
   "execution_count": 12,
   "metadata": {},
   "outputs": [
    {
     "data": {
      "text/html": [
       "<div>\n",
       "<style scoped>\n",
       "    .dataframe tbody tr th:only-of-type {\n",
       "        vertical-align: middle;\n",
       "    }\n",
       "\n",
       "    .dataframe tbody tr th {\n",
       "        vertical-align: top;\n",
       "    }\n",
       "\n",
       "    .dataframe thead th {\n",
       "        text-align: right;\n",
       "    }\n",
       "</style>\n",
       "<table border=\"1\" class=\"dataframe\">\n",
       "  <thead>\n",
       "    <tr style=\"text-align: right;\">\n",
       "      <th></th>\n",
       "      <th>Unnamed: 0</th>\n",
       "      <th>subject_id</th>\n",
       "      <th>gender</th>\n",
       "      <th>dod</th>\n",
       "      <th>Arterial Blood Pressure diastolic</th>\n",
       "      <th>Arterial Blood Pressure systolic</th>\n",
       "      <th>Heart Rate</th>\n",
       "      <th>Respiratory Rate</th>\n",
       "      <th>Albumin</th>\n",
       "      <th>Creatinine</th>\n",
       "      <th>INR(PT)</th>\n",
       "      <th>PT</th>\n",
       "      <th>Urea Nitrogen</th>\n",
       "      <th>diabetes</th>\n",
       "      <th>hypertension</th>\n",
       "      <th>chronic_kidney_disease</th>\n",
       "      <th>sepsis</th>\n",
       "    </tr>\n",
       "  </thead>\n",
       "  <tbody>\n",
       "    <tr>\n",
       "      <th>0</th>\n",
       "      <td>0</td>\n",
       "      <td>11164848</td>\n",
       "      <td>1</td>\n",
       "      <td>1</td>\n",
       "      <td>50.0</td>\n",
       "      <td>116.0</td>\n",
       "      <td>117.0</td>\n",
       "      <td>30.0</td>\n",
       "      <td>2.8</td>\n",
       "      <td>2.7</td>\n",
       "      <td>1.8</td>\n",
       "      <td>17.5</td>\n",
       "      <td>43.0</td>\n",
       "      <td>1</td>\n",
       "      <td>1</td>\n",
       "      <td>0</td>\n",
       "      <td>0</td>\n",
       "    </tr>\n",
       "    <tr>\n",
       "      <th>1</th>\n",
       "      <td>1</td>\n",
       "      <td>18539548</td>\n",
       "      <td>0</td>\n",
       "      <td>1</td>\n",
       "      <td>45.0</td>\n",
       "      <td>139.0</td>\n",
       "      <td>79.0</td>\n",
       "      <td>24.0</td>\n",
       "      <td>2.0</td>\n",
       "      <td>0.7</td>\n",
       "      <td>2.0</td>\n",
       "      <td>18.2</td>\n",
       "      <td>7.0</td>\n",
       "      <td>1</td>\n",
       "      <td>0</td>\n",
       "      <td>0</td>\n",
       "      <td>0</td>\n",
       "    </tr>\n",
       "    <tr>\n",
       "      <th>2</th>\n",
       "      <td>2</td>\n",
       "      <td>16665617</td>\n",
       "      <td>0</td>\n",
       "      <td>1</td>\n",
       "      <td>67.0</td>\n",
       "      <td>110.0</td>\n",
       "      <td>68.0</td>\n",
       "      <td>30.0</td>\n",
       "      <td>3.6</td>\n",
       "      <td>2.1</td>\n",
       "      <td>2.9</td>\n",
       "      <td>26.1</td>\n",
       "      <td>52.0</td>\n",
       "      <td>0</td>\n",
       "      <td>0</td>\n",
       "      <td>0</td>\n",
       "      <td>0</td>\n",
       "    </tr>\n",
       "    <tr>\n",
       "      <th>3</th>\n",
       "      <td>3</td>\n",
       "      <td>14246655</td>\n",
       "      <td>1</td>\n",
       "      <td>1</td>\n",
       "      <td>57.0</td>\n",
       "      <td>115.0</td>\n",
       "      <td>66.0</td>\n",
       "      <td>18.0</td>\n",
       "      <td>4.1</td>\n",
       "      <td>0.6</td>\n",
       "      <td>1.1</td>\n",
       "      <td>12.8</td>\n",
       "      <td>20.0</td>\n",
       "      <td>0</td>\n",
       "      <td>1</td>\n",
       "      <td>0</td>\n",
       "      <td>0</td>\n",
       "    </tr>\n",
       "    <tr>\n",
       "      <th>4</th>\n",
       "      <td>4</td>\n",
       "      <td>15274195</td>\n",
       "      <td>1</td>\n",
       "      <td>1</td>\n",
       "      <td>40.0</td>\n",
       "      <td>102.0</td>\n",
       "      <td>93.0</td>\n",
       "      <td>29.0</td>\n",
       "      <td>2.4</td>\n",
       "      <td>0.4</td>\n",
       "      <td>2.1</td>\n",
       "      <td>29.1</td>\n",
       "      <td>13.0</td>\n",
       "      <td>0</td>\n",
       "      <td>0</td>\n",
       "      <td>1</td>\n",
       "      <td>0</td>\n",
       "    </tr>\n",
       "  </tbody>\n",
       "</table>\n",
       "</div>"
      ],
      "text/plain": [
       "   Unnamed: 0  subject_id  gender  dod  Arterial Blood Pressure diastolic  \\\n",
       "0           0    11164848       1    1                               50.0   \n",
       "1           1    18539548       0    1                               45.0   \n",
       "2           2    16665617       0    1                               67.0   \n",
       "3           3    14246655       1    1                               57.0   \n",
       "4           4    15274195       1    1                               40.0   \n",
       "\n",
       "   Arterial Blood Pressure systolic  Heart Rate  Respiratory Rate  Albumin  \\\n",
       "0                             116.0       117.0              30.0      2.8   \n",
       "1                             139.0        79.0              24.0      2.0   \n",
       "2                             110.0        68.0              30.0      3.6   \n",
       "3                             115.0        66.0              18.0      4.1   \n",
       "4                             102.0        93.0              29.0      2.4   \n",
       "\n",
       "   Creatinine  INR(PT)    PT  Urea Nitrogen  diabetes  hypertension  \\\n",
       "0         2.7      1.8  17.5           43.0         1             1   \n",
       "1         0.7      2.0  18.2            7.0         1             0   \n",
       "2         2.1      2.9  26.1           52.0         0             0   \n",
       "3         0.6      1.1  12.8           20.0         0             1   \n",
       "4         0.4      2.1  29.1           13.0         0             0   \n",
       "\n",
       "   chronic_kidney_disease  sepsis  \n",
       "0                       0       0  \n",
       "1                       0       0  \n",
       "2                       0       0  \n",
       "3                       0       0  \n",
       "4                       1       0  "
      ]
     },
     "execution_count": 12,
     "metadata": {},
     "output_type": "execute_result"
    }
   ],
   "source": [
    "df.head()"
   ]
  },
  {
   "cell_type": "code",
   "execution_count": 13,
   "metadata": {},
   "outputs": [],
   "source": [
    "X = df.drop(columns=['dod', 'Unnamed: 0', 'subject_id'])\n",
    "y = df['dod']\n",
    "\n",
    "from sklearn.model_selection import train_test_split\n",
    "X_train, X_test, y_train, y_test = train_test_split(X, y, test_size=0.2, random_state=42)\n"
   ]
  },
  {
   "cell_type": "markdown",
   "metadata": {},
   "source": [
    "### Apply SMOTE"
   ]
  },
  {
   "cell_type": "code",
   "execution_count": 14,
   "metadata": {},
   "outputs": [],
   "source": [
    "from imblearn.over_sampling import SMOTE\n",
    "smote = SMOTE(random_state=42)\n",
    "X_smote, y_smote = smote.fit_resample(X_train, y_train)\n"
   ]
  },
  {
   "cell_type": "markdown",
   "metadata": {},
   "source": [
    "### Apply ADASYN"
   ]
  },
  {
   "cell_type": "code",
   "execution_count": 15,
   "metadata": {},
   "outputs": [],
   "source": [
    "from imblearn.over_sampling import ADASYN\n",
    "adasyn = ADASYN(random_state=42)\n",
    "X_adasyn, y_adasyn = adasyn.fit_resample(X_train, y_train)\n"
   ]
  },
  {
   "cell_type": "markdown",
   "metadata": {},
   "source": [
    "### Apply MLP"
   ]
  },
  {
   "cell_type": "code",
   "execution_count": null,
   "metadata": {},
   "outputs": [],
   "source": []
  },
  {
   "cell_type": "markdown",
   "metadata": {},
   "source": [
    "##"
   ]
  }
 ],
 "metadata": {
  "kernelspec": {
   "display_name": "base",
   "language": "python",
   "name": "python3"
  },
  "language_info": {
   "codemirror_mode": {
    "name": "ipython",
    "version": 3
   },
   "file_extension": ".py",
   "mimetype": "text/x-python",
   "name": "python",
   "nbconvert_exporter": "python",
   "pygments_lexer": "ipython3",
   "version": "3.8.5"
  },
  "orig_nbformat": 4
 },
 "nbformat": 4,
 "nbformat_minor": 2
}
