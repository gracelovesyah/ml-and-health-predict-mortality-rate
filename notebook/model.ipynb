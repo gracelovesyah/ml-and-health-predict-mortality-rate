{
 "cells": [
  {
   "cell_type": "markdown",
   "metadata": {},
   "source": [
    "# Baseline Model Exploration\n",
    "\n",
    "*by Grace*\n",
    "\n",
    "Hello Team,\n",
    "\n",
    "In this notebook, I've embarked on an initial exploration of various baseline models for our binary classification task. The primary goal was to establish a foundational understanding of the performance we can expect from some common algorithms, without any extensive tuning or optimization.\n",
    "\n",
    "## Models Explored:\n",
    "- **Linear Regression**: Used as a binary classifier with a threshold.\n",
    "- **Logistic Regression**: A standard approach for binary classification tasks.\n",
    "- **Dummy Classifier**: Provides predictions based on simple rules, serving as a basic baseline.\n",
    "- **Decision Tree Classifier**: A simple and interpretable model.\n",
    "- **Random Forest Classifier**: An ensemble method using multiple decision trees.\n",
    "- **Support Vector Machine (SVM)**: Explored with a linear kernel.\n",
    "\n",
    "## Next Steps:\n",
    "- These models can serve as a starting point. There's ample room for optimization, including hyperparameter tuning, feature engineering, and exploring more complex models.\n",
    "- It would be beneficial to delve deeper into each model's performance metrics, especially if our dataset has class imbalances.\n",
    "- Feedback and collaboration are encouraged. If anyone has insights or suggestions on improving these baseline models or wants to introduce other potential models, please share!\n",
    "\n",
    "Let's collaborate and refine our approach to achieve the best model performance!"
   ]
  },
  {
   "cell_type": "code",
   "execution_count": 1,
   "metadata": {},
   "outputs": [],
   "source": [
    "import pandas as pd"
   ]
  },
  {
   "cell_type": "code",
   "execution_count": 2,
   "metadata": {},
   "outputs": [],
   "source": [
    "df = pd.read_csv('../data/df_final.csv')"
   ]
  },
  {
   "cell_type": "markdown",
   "metadata": {},
   "source": [
    "## EDA\n",
    "- discover imbalance trend"
   ]
  },
  {
   "cell_type": "code",
   "execution_count": 3,
   "metadata": {},
   "outputs": [
    {
     "data": {
      "text/plain": [
       "Index(['Unnamed: 0', 'subject_id', 'gender', 'dod',\n",
       "       'Arterial Blood Pressure systolic', 'Heart rate Alarm - High',\n",
       "       'Respiratory Rate', 'Anion Gap', 'Bicarbonate', 'Chloride', 'Glucose',\n",
       "       'MCH', 'MCHC', 'PT', 'RBC', 'RDW', 'Sodium', 'Urea Nitrogen'],\n",
       "      dtype='object')"
      ]
     },
     "execution_count": 3,
     "metadata": {},
     "output_type": "execute_result"
    }
   ],
   "source": [
    "df.columns"
   ]
  },
  {
   "cell_type": "code",
   "execution_count": 4,
   "metadata": {},
   "outputs": [
    {
     "data": {
      "text/html": [
       "<div>\n",
       "<style scoped>\n",
       "    .dataframe tbody tr th:only-of-type {\n",
       "        vertical-align: middle;\n",
       "    }\n",
       "\n",
       "    .dataframe tbody tr th {\n",
       "        vertical-align: top;\n",
       "    }\n",
       "\n",
       "    .dataframe thead th {\n",
       "        text-align: right;\n",
       "    }\n",
       "</style>\n",
       "<table border=\"1\" class=\"dataframe\">\n",
       "  <thead>\n",
       "    <tr style=\"text-align: right;\">\n",
       "      <th></th>\n",
       "      <th>Unnamed: 0</th>\n",
       "      <th>subject_id</th>\n",
       "      <th>gender</th>\n",
       "      <th>dod</th>\n",
       "      <th>Arterial Blood Pressure systolic</th>\n",
       "      <th>Heart rate Alarm - High</th>\n",
       "      <th>Respiratory Rate</th>\n",
       "      <th>Anion Gap</th>\n",
       "      <th>Bicarbonate</th>\n",
       "      <th>Chloride</th>\n",
       "      <th>Glucose</th>\n",
       "      <th>MCH</th>\n",
       "      <th>MCHC</th>\n",
       "      <th>PT</th>\n",
       "      <th>RBC</th>\n",
       "      <th>RDW</th>\n",
       "      <th>Sodium</th>\n",
       "      <th>Urea Nitrogen</th>\n",
       "    </tr>\n",
       "  </thead>\n",
       "  <tbody>\n",
       "    <tr>\n",
       "      <th>count</th>\n",
       "      <td>6182.000000</td>\n",
       "      <td>6.182000e+03</td>\n",
       "      <td>6182.000000</td>\n",
       "      <td>6182.000000</td>\n",
       "      <td>6182.000000</td>\n",
       "      <td>6182.000000</td>\n",
       "      <td>6182.000000</td>\n",
       "      <td>6182.000000</td>\n",
       "      <td>6182.000000</td>\n",
       "      <td>6182.000000</td>\n",
       "      <td>6182.000000</td>\n",
       "      <td>6182.000000</td>\n",
       "      <td>6182.000000</td>\n",
       "      <td>6182.000000</td>\n",
       "      <td>6182.000000</td>\n",
       "      <td>6182.000000</td>\n",
       "      <td>6182.000000</td>\n",
       "      <td>6182.000000</td>\n",
       "    </tr>\n",
       "    <tr>\n",
       "      <th>mean</th>\n",
       "      <td>3090.500000</td>\n",
       "      <td>1.500617e+07</td>\n",
       "      <td>0.422193</td>\n",
       "      <td>0.304594</td>\n",
       "      <td>127.384503</td>\n",
       "      <td>124.786477</td>\n",
       "      <td>19.493691</td>\n",
       "      <td>13.817373</td>\n",
       "      <td>25.015529</td>\n",
       "      <td>103.815917</td>\n",
       "      <td>142.422193</td>\n",
       "      <td>30.052782</td>\n",
       "      <td>33.130621</td>\n",
       "      <td>14.685634</td>\n",
       "      <td>10.842608</td>\n",
       "      <td>14.761631</td>\n",
       "      <td>139.308962</td>\n",
       "      <td>23.678259</td>\n",
       "    </tr>\n",
       "    <tr>\n",
       "      <th>std</th>\n",
       "      <td>1784.734014</td>\n",
       "      <td>2.884519e+06</td>\n",
       "      <td>0.493949</td>\n",
       "      <td>0.460272</td>\n",
       "      <td>24.732345</td>\n",
       "      <td>152.564441</td>\n",
       "      <td>7.523777</td>\n",
       "      <td>3.621039</td>\n",
       "      <td>4.519001</td>\n",
       "      <td>6.026562</td>\n",
       "      <td>50.136291</td>\n",
       "      <td>2.397594</td>\n",
       "      <td>1.539910</td>\n",
       "      <td>6.573870</td>\n",
       "      <td>39.254623</td>\n",
       "      <td>2.025005</td>\n",
       "      <td>4.989260</td>\n",
       "      <td>17.947870</td>\n",
       "    </tr>\n",
       "    <tr>\n",
       "      <th>min</th>\n",
       "      <td>0.000000</td>\n",
       "      <td>1.000235e+07</td>\n",
       "      <td>0.000000</td>\n",
       "      <td>0.000000</td>\n",
       "      <td>11.000000</td>\n",
       "      <td>12.000000</td>\n",
       "      <td>0.000000</td>\n",
       "      <td>4.000000</td>\n",
       "      <td>2.000000</td>\n",
       "      <td>75.000000</td>\n",
       "      <td>36.000000</td>\n",
       "      <td>18.400000</td>\n",
       "      <td>25.900000</td>\n",
       "      <td>8.700000</td>\n",
       "      <td>0.000000</td>\n",
       "      <td>11.100000</td>\n",
       "      <td>101.000000</td>\n",
       "      <td>1.000000</td>\n",
       "    </tr>\n",
       "    <tr>\n",
       "      <th>25%</th>\n",
       "      <td>1545.250000</td>\n",
       "      <td>1.252421e+07</td>\n",
       "      <td>0.000000</td>\n",
       "      <td>0.000000</td>\n",
       "      <td>110.000000</td>\n",
       "      <td>120.000000</td>\n",
       "      <td>16.000000</td>\n",
       "      <td>11.000000</td>\n",
       "      <td>22.000000</td>\n",
       "      <td>100.000000</td>\n",
       "      <td>116.000000</td>\n",
       "      <td>28.900000</td>\n",
       "      <td>32.100000</td>\n",
       "      <td>11.900000</td>\n",
       "      <td>2.000000</td>\n",
       "      <td>13.400000</td>\n",
       "      <td>136.000000</td>\n",
       "      <td>13.000000</td>\n",
       "    </tr>\n",
       "    <tr>\n",
       "      <th>50%</th>\n",
       "      <td>3090.500000</td>\n",
       "      <td>1.502831e+07</td>\n",
       "      <td>0.000000</td>\n",
       "      <td>0.000000</td>\n",
       "      <td>126.000000</td>\n",
       "      <td>120.000000</td>\n",
       "      <td>19.000000</td>\n",
       "      <td>13.000000</td>\n",
       "      <td>25.000000</td>\n",
       "      <td>104.000000</td>\n",
       "      <td>133.000000</td>\n",
       "      <td>30.200000</td>\n",
       "      <td>33.200000</td>\n",
       "      <td>13.100000</td>\n",
       "      <td>3.000000</td>\n",
       "      <td>14.300000</td>\n",
       "      <td>139.000000</td>\n",
       "      <td>18.000000</td>\n",
       "    </tr>\n",
       "    <tr>\n",
       "      <th>75%</th>\n",
       "      <td>4635.750000</td>\n",
       "      <td>1.747863e+07</td>\n",
       "      <td>1.000000</td>\n",
       "      <td>1.000000</td>\n",
       "      <td>143.000000</td>\n",
       "      <td>130.000000</td>\n",
       "      <td>23.000000</td>\n",
       "      <td>16.000000</td>\n",
       "      <td>28.000000</td>\n",
       "      <td>107.000000</td>\n",
       "      <td>154.000000</td>\n",
       "      <td>31.500000</td>\n",
       "      <td>34.200000</td>\n",
       "      <td>14.900000</td>\n",
       "      <td>4.000000</td>\n",
       "      <td>15.600000</td>\n",
       "      <td>142.000000</td>\n",
       "      <td>28.000000</td>\n",
       "    </tr>\n",
       "    <tr>\n",
       "      <th>max</th>\n",
       "      <td>6181.000000</td>\n",
       "      <td>1.999944e+07</td>\n",
       "      <td>1.000000</td>\n",
       "      <td>1.000000</td>\n",
       "      <td>273.000000</td>\n",
       "      <td>12090.000000</td>\n",
       "      <td>400.000000</td>\n",
       "      <td>48.000000</td>\n",
       "      <td>45.000000</td>\n",
       "      <td>137.000000</td>\n",
       "      <td>686.000000</td>\n",
       "      <td>40.000000</td>\n",
       "      <td>39.500000</td>\n",
       "      <td>150.000000</td>\n",
       "      <td>918.000000</td>\n",
       "      <td>28.900000</td>\n",
       "      <td>175.000000</td>\n",
       "      <td>193.000000</td>\n",
       "    </tr>\n",
       "  </tbody>\n",
       "</table>\n",
       "</div>"
      ],
      "text/plain": [
       "        Unnamed: 0    subject_id       gender          dod  \\\n",
       "count  6182.000000  6.182000e+03  6182.000000  6182.000000   \n",
       "mean   3090.500000  1.500617e+07     0.422193     0.304594   \n",
       "std    1784.734014  2.884519e+06     0.493949     0.460272   \n",
       "min       0.000000  1.000235e+07     0.000000     0.000000   \n",
       "25%    1545.250000  1.252421e+07     0.000000     0.000000   \n",
       "50%    3090.500000  1.502831e+07     0.000000     0.000000   \n",
       "75%    4635.750000  1.747863e+07     1.000000     1.000000   \n",
       "max    6181.000000  1.999944e+07     1.000000     1.000000   \n",
       "\n",
       "       Arterial Blood Pressure systolic  Heart rate Alarm - High  \\\n",
       "count                       6182.000000              6182.000000   \n",
       "mean                         127.384503               124.786477   \n",
       "std                           24.732345               152.564441   \n",
       "min                           11.000000                12.000000   \n",
       "25%                          110.000000               120.000000   \n",
       "50%                          126.000000               120.000000   \n",
       "75%                          143.000000               130.000000   \n",
       "max                          273.000000             12090.000000   \n",
       "\n",
       "       Respiratory Rate    Anion Gap  Bicarbonate     Chloride      Glucose  \\\n",
       "count       6182.000000  6182.000000  6182.000000  6182.000000  6182.000000   \n",
       "mean          19.493691    13.817373    25.015529   103.815917   142.422193   \n",
       "std            7.523777     3.621039     4.519001     6.026562    50.136291   \n",
       "min            0.000000     4.000000     2.000000    75.000000    36.000000   \n",
       "25%           16.000000    11.000000    22.000000   100.000000   116.000000   \n",
       "50%           19.000000    13.000000    25.000000   104.000000   133.000000   \n",
       "75%           23.000000    16.000000    28.000000   107.000000   154.000000   \n",
       "max          400.000000    48.000000    45.000000   137.000000   686.000000   \n",
       "\n",
       "               MCH         MCHC           PT          RBC          RDW  \\\n",
       "count  6182.000000  6182.000000  6182.000000  6182.000000  6182.000000   \n",
       "mean     30.052782    33.130621    14.685634    10.842608    14.761631   \n",
       "std       2.397594     1.539910     6.573870    39.254623     2.025005   \n",
       "min      18.400000    25.900000     8.700000     0.000000    11.100000   \n",
       "25%      28.900000    32.100000    11.900000     2.000000    13.400000   \n",
       "50%      30.200000    33.200000    13.100000     3.000000    14.300000   \n",
       "75%      31.500000    34.200000    14.900000     4.000000    15.600000   \n",
       "max      40.000000    39.500000   150.000000   918.000000    28.900000   \n",
       "\n",
       "            Sodium  Urea Nitrogen  \n",
       "count  6182.000000    6182.000000  \n",
       "mean    139.308962      23.678259  \n",
       "std       4.989260      17.947870  \n",
       "min     101.000000       1.000000  \n",
       "25%     136.000000      13.000000  \n",
       "50%     139.000000      18.000000  \n",
       "75%     142.000000      28.000000  \n",
       "max     175.000000     193.000000  "
      ]
     },
     "execution_count": 4,
     "metadata": {},
     "output_type": "execute_result"
    }
   ],
   "source": [
    "df.describe()"
   ]
  },
  {
   "cell_type": "code",
   "execution_count": 5,
   "metadata": {},
   "outputs": [
    {
     "data": {
      "image/png": "[encoded data removed]",
      "text/plain": [
       "<Figure size 720x504 with 1 Axes>"
      ]
     },
     "metadata": {
      "needs_background": "light"
     },
     "output_type": "display_data"
    }
   ],
   "source": [
    "import pandas as pd\n",
    "import matplotlib.pyplot as plt\n",
    "\n",
    "# Create a crosstab of 'dod' and 'gender'\n",
    "ct = pd.crosstab(df['dod'], df['gender'])\n",
    "\n",
    "# Plot the crosstab as a stacked bar chart\n",
    "ct.plot(kind='bar', stacked=True, figsize=(10, 7))\n",
    "\n",
    "# Customize the plot\n",
    "plt.title('Distribution of Alive and Dead by Gender')\n",
    "plt.xlabel('Status (0: Dead, 1: Alive)')\n",
    "plt.ylabel('Count')\n",
    "plt.xticks(rotation=0)\n",
    "plt.legend(title='Gender', labels=['Male', 'Female'])  # Adjust labels if needed\n",
    "\n",
    "# Display the plot\n",
    "plt.show()\n"
   ]
  },
  {
   "cell_type": "code",
   "execution_count": 10,
   "metadata": {},
   "outputs": [],
   "source": [
    "X = df.drop(columns=['dod', 'Unnamed: 0', 'subject_id'])\n",
    "y = df['dod']\n",
    "\n",
    "from sklearn.model_selection import train_test_split\n",
    "X_train, X_test, y_train, y_test = train_test_split(X, y, test_size=0.2, random_state=42)\n"
   ]
  },
  {
   "cell_type": "markdown",
   "metadata": {},
   "source": [
    "# 1. Linear Regression:\n"
   ]
  },
  {
   "cell_type": "code",
   "execution_count": 11,
   "metadata": {},
   "outputs": [
    {
     "name": "stdout",
     "output_type": "stream",
     "text": [
      "Linear Regression Evaluation:\n",
      "Accuracy: 0.730800323362975\n",
      "Classification Report:\n",
      "               precision    recall  f1-score   support\n",
      "\n",
      "           0       0.74      0.94      0.83       857\n",
      "           1       0.66      0.25      0.37       380\n",
      "\n",
      "    accuracy                           0.73      1237\n",
      "   macro avg       0.70      0.60      0.60      1237\n",
      "weighted avg       0.72      0.73      0.69      1237\n",
      "\n",
      "Confusion Matrix:\n",
      " [[808  49]\n",
      " [284  96]]\n"
     ]
    }
   ],
   "source": [
    "from sklearn.linear_model import LinearRegression\n",
    "from sklearn.metrics import accuracy_score, classification_report, confusion_matrix\n",
    "\n",
    "# Train the model\n",
    "lin_reg = LinearRegression()\n",
    "lin_reg.fit(X_train, y_train)\n",
    "\n",
    "# Predict\n",
    "y_pred_lin = lin_reg.predict(X_test)\n",
    "\n",
    "# Convert predictions to binary using 0.5 as threshold\n",
    "y_pred_bin = [1 if y > 0.5 else 0 for y in y_pred_lin]\n",
    "\n",
    "# Evaluate\n",
    "print(\"Linear Regression Evaluation:\")\n",
    "print(\"Accuracy:\", accuracy_score(y_test, y_pred_bin))\n",
    "print(\"Classification Report:\\n\", classification_report(y_test, y_pred_bin))\n",
    "print(\"Confusion Matrix:\\n\", confusion_matrix(y_test, y_pred_bin))\n"
   ]
  },
  {
   "cell_type": "markdown",
   "metadata": {},
   "source": [
    "# 2. Logistic Regression:"
   ]
  },
  {
   "cell_type": "code",
   "execution_count": 12,
   "metadata": {},
   "outputs": [
    {
     "name": "stdout",
     "output_type": "stream",
     "text": [
      "\n",
      "Logistic Regression Evaluation:\n",
      "Accuracy: 0.7259498787388844\n",
      "Classification Report:\n",
      "               precision    recall  f1-score   support\n",
      "\n",
      "           0       0.74      0.93      0.82       857\n",
      "           1       0.62      0.27      0.38       380\n",
      "\n",
      "    accuracy                           0.73      1237\n",
      "   macro avg       0.68      0.60      0.60      1237\n",
      "weighted avg       0.71      0.73      0.69      1237\n",
      "\n",
      "Confusion Matrix:\n",
      " [[795  62]\n",
      " [277 103]]\n"
     ]
    }
   ],
   "source": [
    "from sklearn.linear_model import LogisticRegression\n",
    "\n",
    "# Train the model\n",
    "log_reg = LogisticRegression(max_iter=10000)  # max_iter increased to ensure convergence\n",
    "log_reg.fit(X_train, y_train)\n",
    "\n",
    "# Predict\n",
    "y_pred_log = log_reg.predict(X_test)\n",
    "\n",
    "# Evaluate\n",
    "print(\"\\nLogistic Regression Evaluation:\")\n",
    "print(\"Accuracy:\", accuracy_score(y_test, y_pred_log))\n",
    "print(\"Classification Report:\\n\", classification_report(y_test, y_pred_log))\n",
    "print(\"Confusion Matrix:\\n\", confusion_matrix(y_test, y_pred_log))\n"
   ]
  },
  {
   "cell_type": "markdown",
   "metadata": {},
   "source": [
    "# 3. Decision Tree Classifier"
   ]
  },
  {
   "cell_type": "code",
   "execution_count": 13,
   "metadata": {},
   "outputs": [
    {
     "name": "stdout",
     "output_type": "stream",
     "text": [
      "Decision Tree Classifier Evaluation:\n",
      "Accuracy: 0.6337914308811641\n",
      "Classification Report:\n",
      "               precision    recall  f1-score   support\n",
      "\n",
      "           0       0.74      0.73      0.74       857\n",
      "           1       0.40      0.41      0.41       380\n",
      "\n",
      "    accuracy                           0.63      1237\n",
      "   macro avg       0.57      0.57      0.57      1237\n",
      "weighted avg       0.63      0.63      0.63      1237\n",
      "\n",
      "Confusion Matrix:\n",
      " [[629 228]\n",
      " [225 155]]\n"
     ]
    }
   ],
   "source": [
    "from sklearn.tree import DecisionTreeClassifier\n",
    "\n",
    "tree = DecisionTreeClassifier()\n",
    "tree.fit(X_train, y_train)\n",
    "y_pred_tree = tree.predict(X_test)\n",
    "\n",
    "print(\"Decision Tree Classifier Evaluation:\")\n",
    "print(\"Accuracy:\", accuracy_score(y_test, y_pred_tree))\n",
    "print(\"Classification Report:\\n\", classification_report(y_test, y_pred_tree))\n",
    "print(\"Confusion Matrix:\\n\", confusion_matrix(y_test, y_pred_tree))\n"
   ]
  },
  {
   "cell_type": "markdown",
   "metadata": {},
   "source": [
    "# 4. Random Forest Classifier"
   ]
  },
  {
   "cell_type": "code",
   "execution_count": 14,
   "metadata": {},
   "outputs": [
    {
     "name": "stdout",
     "output_type": "stream",
     "text": [
      "Random Forest Classifier Evaluation:\n",
      "Accuracy: 0.7299919159256265\n",
      "Classification Report:\n",
      "               precision    recall  f1-score   support\n",
      "\n",
      "           0       0.76      0.90      0.82       857\n",
      "           1       0.61      0.34      0.44       380\n",
      "\n",
      "    accuracy                           0.73      1237\n",
      "   macro avg       0.68      0.62      0.63      1237\n",
      "weighted avg       0.71      0.73      0.70      1237\n",
      "\n",
      "Confusion Matrix:\n",
      " [[774  83]\n",
      " [251 129]]\n"
     ]
    }
   ],
   "source": [
    "from sklearn.ensemble import RandomForestClassifier\n",
    "\n",
    "forest = RandomForestClassifier()\n",
    "forest.fit(X_train, y_train)\n",
    "y_pred_forest = forest.predict(X_test)\n",
    "\n",
    "print(\"Random Forest Classifier Evaluation:\")\n",
    "print(\"Accuracy:\", accuracy_score(y_test, y_pred_forest))\n",
    "print(\"Classification Report:\\n\", classification_report(y_test, y_pred_forest))\n",
    "print(\"Confusion Matrix:\\n\", confusion_matrix(y_test, y_pred_forest))\n"
   ]
  },
  {
   "cell_type": "markdown",
   "metadata": {},
   "source": [
    "# 5. SVM Classifier"
   ]
  },
  {
   "cell_type": "code",
   "execution_count": 15,
   "metadata": {},
   "outputs": [
    {
     "name": "stdout",
     "output_type": "stream",
     "text": [
      "SVM Classifier Evaluation:\n",
      "Accuracy: 0.7178658043654002\n",
      "Classification Report:\n",
      "               precision    recall  f1-score   support\n",
      "\n",
      "           0       0.72      0.96      0.83       857\n",
      "           1       0.67      0.16      0.26       380\n",
      "\n",
      "    accuracy                           0.72      1237\n",
      "   macro avg       0.70      0.56      0.54      1237\n",
      "weighted avg       0.71      0.72      0.65      1237\n",
      "\n",
      "Confusion Matrix:\n",
      " [[827  30]\n",
      " [319  61]]\n"
     ]
    }
   ],
   "source": [
    "from sklearn.svm import SVC\n",
    "\n",
    "svm = SVC(kernel='linear')\n",
    "svm.fit(X_train, y_train)\n",
    "y_pred_svm = svm.predict(X_test)\n",
    "\n",
    "print(\"SVM Classifier Evaluation:\")\n",
    "print(\"Accuracy:\", accuracy_score(y_test, y_pred_svm))\n",
    "print(\"Classification Report:\\n\", classification_report(y_test, y_pred_svm))\n",
    "print(\"Confusion Matrix:\\n\", confusion_matrix(y_test, y_pred_svm))\n"
   ]
  },
  {
   "cell_type": "markdown",
   "metadata": {},
   "source": [
    "# 6. Deep Learning Approach: NN - MLP (unfinished)"
   ]
  },
  {
   "cell_type": "markdown",
   "metadata": {},
   "source": [
    "### Imbalance data handling\n",
    "- SMOTE\n",
    "- ADASYN"
   ]
  },
  {
   "cell_type": "code",
   "execution_count": 6,
   "metadata": {},
   "outputs": [
    {
     "data": {
      "text/html": [
       "<div>\n",
       "<style scoped>\n",
       "    .dataframe tbody tr th:only-of-type {\n",
       "        vertical-align: middle;\n",
       "    }\n",
       "\n",
       "    .dataframe tbody tr th {\n",
       "        vertical-align: top;\n",
       "    }\n",
       "\n",
       "    .dataframe thead th {\n",
       "        text-align: right;\n",
       "    }\n",
       "</style>\n",
       "<table border=\"1\" class=\"dataframe\">\n",
       "  <thead>\n",
       "    <tr style=\"text-align: right;\">\n",
       "      <th></th>\n",
       "      <th>Unnamed: 0</th>\n",
       "      <th>subject_id</th>\n",
       "      <th>gender</th>\n",
       "      <th>dod</th>\n",
       "      <th>Arterial Blood Pressure systolic</th>\n",
       "      <th>Heart rate Alarm - High</th>\n",
       "      <th>Respiratory Rate</th>\n",
       "      <th>Anion Gap</th>\n",
       "      <th>Bicarbonate</th>\n",
       "      <th>Chloride</th>\n",
       "      <th>Glucose</th>\n",
       "      <th>MCH</th>\n",
       "      <th>MCHC</th>\n",
       "      <th>PT</th>\n",
       "      <th>RBC</th>\n",
       "      <th>RDW</th>\n",
       "      <th>Sodium</th>\n",
       "      <th>Urea Nitrogen</th>\n",
       "    </tr>\n",
       "  </thead>\n",
       "  <tbody>\n",
       "    <tr>\n",
       "      <th>0</th>\n",
       "      <td>0</td>\n",
       "      <td>18539548</td>\n",
       "      <td>0</td>\n",
       "      <td>1</td>\n",
       "      <td>111.0</td>\n",
       "      <td>120.0</td>\n",
       "      <td>23.0</td>\n",
       "      <td>18.0</td>\n",
       "      <td>17.0</td>\n",
       "      <td>98.0</td>\n",
       "      <td>101.0</td>\n",
       "      <td>33.2</td>\n",
       "      <td>34.4</td>\n",
       "      <td>32.1</td>\n",
       "      <td>6.0</td>\n",
       "      <td>16.0</td>\n",
       "      <td>134.0</td>\n",
       "      <td>7.0</td>\n",
       "    </tr>\n",
       "    <tr>\n",
       "      <th>1</th>\n",
       "      <td>1</td>\n",
       "      <td>19305113</td>\n",
       "      <td>0</td>\n",
       "      <td>1</td>\n",
       "      <td>105.0</td>\n",
       "      <td>120.0</td>\n",
       "      <td>12.0</td>\n",
       "      <td>8.0</td>\n",
       "      <td>20.0</td>\n",
       "      <td>117.0</td>\n",
       "      <td>81.0</td>\n",
       "      <td>34.5</td>\n",
       "      <td>32.8</td>\n",
       "      <td>14.5</td>\n",
       "      <td>14.0</td>\n",
       "      <td>13.5</td>\n",
       "      <td>129.0</td>\n",
       "      <td>17.0</td>\n",
       "    </tr>\n",
       "    <tr>\n",
       "      <th>2</th>\n",
       "      <td>2</td>\n",
       "      <td>18770897</td>\n",
       "      <td>1</td>\n",
       "      <td>0</td>\n",
       "      <td>106.0</td>\n",
       "      <td>100.0</td>\n",
       "      <td>17.0</td>\n",
       "      <td>11.0</td>\n",
       "      <td>26.0</td>\n",
       "      <td>104.0</td>\n",
       "      <td>110.0</td>\n",
       "      <td>31.0</td>\n",
       "      <td>34.4</td>\n",
       "      <td>13.8</td>\n",
       "      <td>3.0</td>\n",
       "      <td>12.9</td>\n",
       "      <td>140.0</td>\n",
       "      <td>23.0</td>\n",
       "    </tr>\n",
       "    <tr>\n",
       "      <th>3</th>\n",
       "      <td>3</td>\n",
       "      <td>10285325</td>\n",
       "      <td>0</td>\n",
       "      <td>1</td>\n",
       "      <td>158.0</td>\n",
       "      <td>120.0</td>\n",
       "      <td>27.0</td>\n",
       "      <td>19.0</td>\n",
       "      <td>19.0</td>\n",
       "      <td>101.0</td>\n",
       "      <td>129.0</td>\n",
       "      <td>30.5</td>\n",
       "      <td>33.6</td>\n",
       "      <td>22.1</td>\n",
       "      <td>3.0</td>\n",
       "      <td>18.1</td>\n",
       "      <td>134.0</td>\n",
       "      <td>54.0</td>\n",
       "    </tr>\n",
       "    <tr>\n",
       "      <th>4</th>\n",
       "      <td>4</td>\n",
       "      <td>10342123</td>\n",
       "      <td>0</td>\n",
       "      <td>1</td>\n",
       "      <td>114.0</td>\n",
       "      <td>140.0</td>\n",
       "      <td>22.0</td>\n",
       "      <td>15.0</td>\n",
       "      <td>20.0</td>\n",
       "      <td>107.0</td>\n",
       "      <td>113.0</td>\n",
       "      <td>31.6</td>\n",
       "      <td>32.6</td>\n",
       "      <td>15.9</td>\n",
       "      <td>83.0</td>\n",
       "      <td>14.1</td>\n",
       "      <td>138.0</td>\n",
       "      <td>28.0</td>\n",
       "    </tr>\n",
       "  </tbody>\n",
       "</table>\n",
       "</div>"
      ],
      "text/plain": [
       "   Unnamed: 0  subject_id  gender  dod  Arterial Blood Pressure systolic  \\\n",
       "0           0    18539548       0    1                             111.0   \n",
       "1           1    19305113       0    1                             105.0   \n",
       "2           2    18770897       1    0                             106.0   \n",
       "3           3    10285325       0    1                             158.0   \n",
       "4           4    10342123       0    1                             114.0   \n",
       "\n",
       "   Heart rate Alarm - High  Respiratory Rate  Anion Gap  Bicarbonate  \\\n",
       "0                    120.0              23.0       18.0         17.0   \n",
       "1                    120.0              12.0        8.0         20.0   \n",
       "2                    100.0              17.0       11.0         26.0   \n",
       "3                    120.0              27.0       19.0         19.0   \n",
       "4                    140.0              22.0       15.0         20.0   \n",
       "\n",
       "   Chloride  Glucose   MCH  MCHC    PT   RBC   RDW  Sodium  Urea Nitrogen  \n",
       "0      98.0    101.0  33.2  34.4  32.1   6.0  16.0   134.0            7.0  \n",
       "1     117.0     81.0  34.5  32.8  14.5  14.0  13.5   129.0           17.0  \n",
       "2     104.0    110.0  31.0  34.4  13.8   3.0  12.9   140.0           23.0  \n",
       "3     101.0    129.0  30.5  33.6  22.1   3.0  18.1   134.0           54.0  \n",
       "4     107.0    113.0  31.6  32.6  15.9  83.0  14.1   138.0           28.0  "
      ]
     },
     "execution_count": 6,
     "metadata": {},
     "output_type": "execute_result"
    }
   ],
   "source": [
    "df.head()"
   ]
  },
  {
   "cell_type": "code",
   "execution_count": 7,
   "metadata": {},
   "outputs": [],
   "source": [
    "X = df.drop(columns=['dod', 'Unnamed: 0', 'subject_id'])\n",
    "y = df['dod']\n",
    "\n",
    "from sklearn.model_selection import train_test_split\n",
    "X_train, X_test, y_train, y_test = train_test_split(X, y, test_size=0.2, random_state=42)\n"
   ]
  },
  {
   "cell_type": "markdown",
   "metadata": {},
   "source": [
    "### Apply SMOTE"
   ]
  },
  {
   "cell_type": "code",
   "execution_count": 8,
   "metadata": {},
   "outputs": [],
   "source": [
    "from imblearn.over_sampling import SMOTE\n",
    "smote = SMOTE(random_state=42)\n",
    "X_smote, y_smote = smote.fit_resample(X_train, y_train)\n"
   ]
  },
  {
   "cell_type": "markdown",
   "metadata": {},
   "source": [
    "### Apply ADASYN"
   ]
  },
  {
   "cell_type": "code",
   "execution_count": 9,
   "metadata": {},
   "outputs": [],
   "source": [
    "from imblearn.over_sampling import ADASYN\n",
    "adasyn = ADASYN(random_state=42)\n",
    "X_adasyn, y_adasyn = adasyn.fit_resample(X_train, y_train)\n"
   ]
  },
  {
   "cell_type": "markdown",
   "metadata": {},
   "source": [
    "### Apply MLP"
   ]
  },
  {
   "cell_type": "code",
   "execution_count": null,
   "metadata": {},
   "outputs": [],
   "source": []
  },
  {
   "cell_type": "markdown",
   "metadata": {},
   "source": [
    "##"
   ]
  }
 ],
 "metadata": {
  "kernelspec": {
   "display_name": "base",
   "language": "python",
   "name": "python3"
  },
  "language_info": {
   "codemirror_mode": {
    "name": "ipython",
    "version": 3
   },
   "file_extension": ".py",
   "mimetype": "text/x-python",
   "name": "python",
   "nbconvert_exporter": "python",
   "pygments_lexer": "ipython3",
   "version": "3.8.5"
  },
  "orig_nbformat": 4
 },
 "nbformat": 4,
 "nbformat_minor": 2
}
