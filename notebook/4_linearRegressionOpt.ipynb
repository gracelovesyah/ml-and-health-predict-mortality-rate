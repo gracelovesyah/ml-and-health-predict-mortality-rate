{
 "cells": [
  {
   "cell_type": "markdown",
   "id": "dd4fe582-90f9-4892-8f95-7c2d0b2f2dd3",
   "metadata": {},
   "source": [
    "by wedad\n",
    "Hey team this file contains the optimisation for Logistic Regressiona and Linear regressions\n",
    "I'll be comparing them to the baseline model found in baseline_model.ipynb"
   ]
  },
  {
   "cell_type": "markdown",
   "id": "3cf7ee8d-b771-4eaa-89df-5d37fd35e50a",
   "metadata": {
    "tags": []
   },
   "source": [
    "# LinearRegression Optimisation"
   ]
  },
  {
   "cell_type": "markdown",
   "id": "9917dd80-30ad-44d6-83c3-dfbfea1d9305",
   "metadata": {},
   "source": [
    "Read in all the relevant Libraries\n"
   ]
  },
  {
   "cell_type": "code",
   "execution_count": 1,
   "id": "2f4acbe7-052c-45cf-8660-b0c4875939d5",
   "metadata": {},
   "outputs": [],
   "source": [
    "import pandas as pd\n",
    "import matplotlib.pyplot as plt\n",
    "import seaborn as sns\n",
    "import numpy as np\n",
    "from sklearn import linear_model\n",
    "from sklearn.model_selection import train_test_split, GridSearchCV\n",
    "from sklearn.metrics import accuracy_score, classification_report, confusion_matrix, precision_score, recall_score, f1_score\n",
    "from imblearn.over_sampling import RandomOverSampler, SMOTE, ADASYN\n",
    "import warnings\n",
    "warnings.filterwarnings('ignore')"
   ]
  },
  {
   "cell_type": "code",
   "execution_count": 2,
   "id": "ae23e253-a5a9-4f2c-ae13-a7ce9c27043f",
   "metadata": {},
   "outputs": [],
   "source": [
    "seed_list = [1,2,3,4,5,6,7,8,9,10]"
   ]
  },
  {
   "cell_type": "markdown",
   "id": "d09a667b-7067-4cdd-b521-a98e43c85a84",
   "metadata": {},
   "source": [
    "Read In the data"
   ]
  },
  {
   "cell_type": "code",
   "execution_count": 3,
   "id": "679a92bc-8538-4caf-9f9e-c887bb5a98e0",
   "metadata": {},
   "outputs": [
    {
     "data": {
      "text/html": [
       "<div>\n",
       "<style scoped>\n",
       "    .dataframe tbody tr th:only-of-type {\n",
       "        vertical-align: middle;\n",
       "    }\n",
       "\n",
       "    .dataframe tbody tr th {\n",
       "        vertical-align: top;\n",
       "    }\n",
       "\n",
       "    .dataframe thead th {\n",
       "        text-align: right;\n",
       "    }\n",
       "</style>\n",
       "<table border=\"1\" class=\"dataframe\">\n",
       "  <thead>\n",
       "    <tr style=\"text-align: right;\">\n",
       "      <th></th>\n",
       "      <th>Unnamed: 0</th>\n",
       "      <th>subject_id</th>\n",
       "      <th>dod</th>\n",
       "      <th>gender</th>\n",
       "      <th>age</th>\n",
       "      <th>Albumin</th>\n",
       "      <th>Creatinine</th>\n",
       "      <th>Hemoglobin</th>\n",
       "      <th>INR(PT)</th>\n",
       "      <th>PT</th>\n",
       "      <th>Sodium</th>\n",
       "      <th>Urea Nitrogen</th>\n",
       "      <th>Arterial Blood Pressure diastolic</th>\n",
       "      <th>Arterial Blood Pressure systolic</th>\n",
       "      <th>Heart Rate</th>\n",
       "      <th>Respiratory Rate</th>\n",
       "      <th>hypertension</th>\n",
       "      <th>chronic_kidney_disease</th>\n",
       "      <th>sepsis</th>\n",
       "      <th>Intercept</th>\n",
       "    </tr>\n",
       "  </thead>\n",
       "  <tbody>\n",
       "    <tr>\n",
       "      <th>0</th>\n",
       "      <td>0</td>\n",
       "      <td>12642263</td>\n",
       "      <td>0</td>\n",
       "      <td>1</td>\n",
       "      <td>73</td>\n",
       "      <td>3.6</td>\n",
       "      <td>1.2</td>\n",
       "      <td>9.4</td>\n",
       "      <td>3.2</td>\n",
       "      <td>13.8</td>\n",
       "      <td>138.0</td>\n",
       "      <td>16.0</td>\n",
       "      <td>48.0</td>\n",
       "      <td>101.0</td>\n",
       "      <td>84.0</td>\n",
       "      <td>20.0</td>\n",
       "      <td>1</td>\n",
       "      <td>0</td>\n",
       "      <td>0</td>\n",
       "      <td>1</td>\n",
       "    </tr>\n",
       "    <tr>\n",
       "      <th>1</th>\n",
       "      <td>1</td>\n",
       "      <td>12155939</td>\n",
       "      <td>0</td>\n",
       "      <td>0</td>\n",
       "      <td>24</td>\n",
       "      <td>4.1</td>\n",
       "      <td>0.5</td>\n",
       "      <td>10.2</td>\n",
       "      <td>1.2</td>\n",
       "      <td>15.7</td>\n",
       "      <td>143.0</td>\n",
       "      <td>6.0</td>\n",
       "      <td>56.0</td>\n",
       "      <td>114.0</td>\n",
       "      <td>59.0</td>\n",
       "      <td>16.0</td>\n",
       "      <td>0</td>\n",
       "      <td>0</td>\n",
       "      <td>0</td>\n",
       "      <td>1</td>\n",
       "    </tr>\n",
       "    <tr>\n",
       "      <th>2</th>\n",
       "      <td>2</td>\n",
       "      <td>17735780</td>\n",
       "      <td>0</td>\n",
       "      <td>0</td>\n",
       "      <td>54</td>\n",
       "      <td>4.1</td>\n",
       "      <td>0.4</td>\n",
       "      <td>10.2</td>\n",
       "      <td>1.0</td>\n",
       "      <td>14.4</td>\n",
       "      <td>142.0</td>\n",
       "      <td>22.0</td>\n",
       "      <td>48.0</td>\n",
       "      <td>130.0</td>\n",
       "      <td>59.0</td>\n",
       "      <td>24.0</td>\n",
       "      <td>1</td>\n",
       "      <td>0</td>\n",
       "      <td>0</td>\n",
       "      <td>1</td>\n",
       "    </tr>\n",
       "    <tr>\n",
       "      <th>3</th>\n",
       "      <td>3</td>\n",
       "      <td>13677167</td>\n",
       "      <td>0</td>\n",
       "      <td>1</td>\n",
       "      <td>84</td>\n",
       "      <td>3.5</td>\n",
       "      <td>1.1</td>\n",
       "      <td>10.2</td>\n",
       "      <td>1.6</td>\n",
       "      <td>18.7</td>\n",
       "      <td>144.0</td>\n",
       "      <td>17.0</td>\n",
       "      <td>56.0</td>\n",
       "      <td>114.0</td>\n",
       "      <td>89.0</td>\n",
       "      <td>21.0</td>\n",
       "      <td>1</td>\n",
       "      <td>0</td>\n",
       "      <td>0</td>\n",
       "      <td>1</td>\n",
       "    </tr>\n",
       "    <tr>\n",
       "      <th>4</th>\n",
       "      <td>4</td>\n",
       "      <td>11259141</td>\n",
       "      <td>0</td>\n",
       "      <td>0</td>\n",
       "      <td>59</td>\n",
       "      <td>3.6</td>\n",
       "      <td>0.6</td>\n",
       "      <td>10.2</td>\n",
       "      <td>1.7</td>\n",
       "      <td>12.4</td>\n",
       "      <td>153.0</td>\n",
       "      <td>8.0</td>\n",
       "      <td>70.0</td>\n",
       "      <td>91.0</td>\n",
       "      <td>99.0</td>\n",
       "      <td>21.0</td>\n",
       "      <td>1</td>\n",
       "      <td>0</td>\n",
       "      <td>1</td>\n",
       "      <td>1</td>\n",
       "    </tr>\n",
       "    <tr>\n",
       "      <th>...</th>\n",
       "      <td>...</td>\n",
       "      <td>...</td>\n",
       "      <td>...</td>\n",
       "      <td>...</td>\n",
       "      <td>...</td>\n",
       "      <td>...</td>\n",
       "      <td>...</td>\n",
       "      <td>...</td>\n",
       "      <td>...</td>\n",
       "      <td>...</td>\n",
       "      <td>...</td>\n",
       "      <td>...</td>\n",
       "      <td>...</td>\n",
       "      <td>...</td>\n",
       "      <td>...</td>\n",
       "      <td>...</td>\n",
       "      <td>...</td>\n",
       "      <td>...</td>\n",
       "      <td>...</td>\n",
       "      <td>...</td>\n",
       "    </tr>\n",
       "    <tr>\n",
       "      <th>9804</th>\n",
       "      <td>9804</td>\n",
       "      <td>12118394</td>\n",
       "      <td>0</td>\n",
       "      <td>1</td>\n",
       "      <td>61</td>\n",
       "      <td>3.3</td>\n",
       "      <td>3.6</td>\n",
       "      <td>10.2</td>\n",
       "      <td>1.5</td>\n",
       "      <td>13.1</td>\n",
       "      <td>138.0</td>\n",
       "      <td>23.0</td>\n",
       "      <td>62.0</td>\n",
       "      <td>103.0</td>\n",
       "      <td>89.0</td>\n",
       "      <td>20.0</td>\n",
       "      <td>0</td>\n",
       "      <td>1</td>\n",
       "      <td>0</td>\n",
       "      <td>1</td>\n",
       "    </tr>\n",
       "    <tr>\n",
       "      <th>9805</th>\n",
       "      <td>9805</td>\n",
       "      <td>18392647</td>\n",
       "      <td>0</td>\n",
       "      <td>1</td>\n",
       "      <td>74</td>\n",
       "      <td>3.5</td>\n",
       "      <td>0.6</td>\n",
       "      <td>10.2</td>\n",
       "      <td>1.2</td>\n",
       "      <td>13.6</td>\n",
       "      <td>138.0</td>\n",
       "      <td>6.0</td>\n",
       "      <td>56.0</td>\n",
       "      <td>114.0</td>\n",
       "      <td>107.0</td>\n",
       "      <td>22.0</td>\n",
       "      <td>1</td>\n",
       "      <td>0</td>\n",
       "      <td>0</td>\n",
       "      <td>1</td>\n",
       "    </tr>\n",
       "    <tr>\n",
       "      <th>9806</th>\n",
       "      <td>9806</td>\n",
       "      <td>12459376</td>\n",
       "      <td>0</td>\n",
       "      <td>1</td>\n",
       "      <td>58</td>\n",
       "      <td>4.1</td>\n",
       "      <td>0.6</td>\n",
       "      <td>10.2</td>\n",
       "      <td>0.9</td>\n",
       "      <td>9.3</td>\n",
       "      <td>141.0</td>\n",
       "      <td>8.0</td>\n",
       "      <td>56.0</td>\n",
       "      <td>114.0</td>\n",
       "      <td>78.0</td>\n",
       "      <td>10.0</td>\n",
       "      <td>0</td>\n",
       "      <td>0</td>\n",
       "      <td>0</td>\n",
       "      <td>1</td>\n",
       "    </tr>\n",
       "    <tr>\n",
       "      <th>9807</th>\n",
       "      <td>9807</td>\n",
       "      <td>14262251</td>\n",
       "      <td>1</td>\n",
       "      <td>1</td>\n",
       "      <td>84</td>\n",
       "      <td>4.0</td>\n",
       "      <td>3.4</td>\n",
       "      <td>12.2</td>\n",
       "      <td>1.1</td>\n",
       "      <td>17.9</td>\n",
       "      <td>141.0</td>\n",
       "      <td>88.0</td>\n",
       "      <td>56.0</td>\n",
       "      <td>114.0</td>\n",
       "      <td>101.0</td>\n",
       "      <td>25.0</td>\n",
       "      <td>1</td>\n",
       "      <td>1</td>\n",
       "      <td>0</td>\n",
       "      <td>1</td>\n",
       "    </tr>\n",
       "    <tr>\n",
       "      <th>9808</th>\n",
       "      <td>9808</td>\n",
       "      <td>11297016</td>\n",
       "      <td>0</td>\n",
       "      <td>1</td>\n",
       "      <td>56</td>\n",
       "      <td>3.2</td>\n",
       "      <td>6.9</td>\n",
       "      <td>10.2</td>\n",
       "      <td>1.3</td>\n",
       "      <td>25.9</td>\n",
       "      <td>137.0</td>\n",
       "      <td>43.0</td>\n",
       "      <td>56.0</td>\n",
       "      <td>114.0</td>\n",
       "      <td>88.0</td>\n",
       "      <td>19.0</td>\n",
       "      <td>0</td>\n",
       "      <td>0</td>\n",
       "      <td>0</td>\n",
       "      <td>1</td>\n",
       "    </tr>\n",
       "  </tbody>\n",
       "</table>\n",
       "<p>9809 rows × 20 columns</p>\n",
       "</div>"
      ],
      "text/plain": [
       "      Unnamed: 0  subject_id  dod  gender  age  Albumin  Creatinine  \\\n",
       "0              0    12642263    0       1   73      3.6         1.2   \n",
       "1              1    12155939    0       0   24      4.1         0.5   \n",
       "2              2    17735780    0       0   54      4.1         0.4   \n",
       "3              3    13677167    0       1   84      3.5         1.1   \n",
       "4              4    11259141    0       0   59      3.6         0.6   \n",
       "...          ...         ...  ...     ...  ...      ...         ...   \n",
       "9804        9804    12118394    0       1   61      3.3         3.6   \n",
       "9805        9805    18392647    0       1   74      3.5         0.6   \n",
       "9806        9806    12459376    0       1   58      4.1         0.6   \n",
       "9807        9807    14262251    1       1   84      4.0         3.4   \n",
       "9808        9808    11297016    0       1   56      3.2         6.9   \n",
       "\n",
       "      Hemoglobin  INR(PT)    PT  Sodium  Urea Nitrogen  \\\n",
       "0            9.4      3.2  13.8   138.0           16.0   \n",
       "1           10.2      1.2  15.7   143.0            6.0   \n",
       "2           10.2      1.0  14.4   142.0           22.0   \n",
       "3           10.2      1.6  18.7   144.0           17.0   \n",
       "4           10.2      1.7  12.4   153.0            8.0   \n",
       "...          ...      ...   ...     ...            ...   \n",
       "9804        10.2      1.5  13.1   138.0           23.0   \n",
       "9805        10.2      1.2  13.6   138.0            6.0   \n",
       "9806        10.2      0.9   9.3   141.0            8.0   \n",
       "9807        12.2      1.1  17.9   141.0           88.0   \n",
       "9808        10.2      1.3  25.9   137.0           43.0   \n",
       "\n",
       "      Arterial Blood Pressure diastolic  Arterial Blood Pressure systolic  \\\n",
       "0                                  48.0                             101.0   \n",
       "1                                  56.0                             114.0   \n",
       "2                                  48.0                             130.0   \n",
       "3                                  56.0                             114.0   \n",
       "4                                  70.0                              91.0   \n",
       "...                                 ...                               ...   \n",
       "9804                               62.0                             103.0   \n",
       "9805                               56.0                             114.0   \n",
       "9806                               56.0                             114.0   \n",
       "9807                               56.0                             114.0   \n",
       "9808                               56.0                             114.0   \n",
       "\n",
       "      Heart Rate  Respiratory Rate  hypertension  chronic_kidney_disease  \\\n",
       "0           84.0              20.0             1                       0   \n",
       "1           59.0              16.0             0                       0   \n",
       "2           59.0              24.0             1                       0   \n",
       "3           89.0              21.0             1                       0   \n",
       "4           99.0              21.0             1                       0   \n",
       "...          ...               ...           ...                     ...   \n",
       "9804        89.0              20.0             0                       1   \n",
       "9805       107.0              22.0             1                       0   \n",
       "9806        78.0              10.0             0                       0   \n",
       "9807       101.0              25.0             1                       1   \n",
       "9808        88.0              19.0             0                       0   \n",
       "\n",
       "      sepsis  Intercept  \n",
       "0          0          1  \n",
       "1          0          1  \n",
       "2          0          1  \n",
       "3          0          1  \n",
       "4          1          1  \n",
       "...      ...        ...  \n",
       "9804       0          1  \n",
       "9805       0          1  \n",
       "9806       0          1  \n",
       "9807       0          1  \n",
       "9808       0          1  \n",
       "\n",
       "[9809 rows x 20 columns]"
      ]
     },
     "execution_count": 3,
     "metadata": {},
     "output_type": "execute_result"
    }
   ],
   "source": [
    "aki_df = pd.read_csv('../data/df_final_AKI.csv')\n",
    "aki_df"
   ]
  },
  {
   "cell_type": "code",
   "execution_count": 4,
   "id": "c42b471b-a370-4cdb-bc77-c388a64b30ae",
   "metadata": {},
   "outputs": [
    {
     "data": {
      "text/html": [
       "<div>\n",
       "<style scoped>\n",
       "    .dataframe tbody tr th:only-of-type {\n",
       "        vertical-align: middle;\n",
       "    }\n",
       "\n",
       "    .dataframe tbody tr th {\n",
       "        vertical-align: top;\n",
       "    }\n",
       "\n",
       "    .dataframe thead th {\n",
       "        text-align: right;\n",
       "    }\n",
       "</style>\n",
       "<table border=\"1\" class=\"dataframe\">\n",
       "  <thead>\n",
       "    <tr style=\"text-align: right;\">\n",
       "      <th></th>\n",
       "      <th>model</th>\n",
       "      <th>accuracy</th>\n",
       "      <th>precision</th>\n",
       "      <th>recall</th>\n",
       "      <th>F1 score</th>\n",
       "    </tr>\n",
       "  </thead>\n",
       "  <tbody>\n",
       "  </tbody>\n",
       "</table>\n",
       "</div>"
      ],
      "text/plain": [
       "Empty DataFrame\n",
       "Columns: [model, accuracy, precision, recall, F1 score]\n",
       "Index: []"
      ]
     },
     "execution_count": 4,
     "metadata": {},
     "output_type": "execute_result"
    }
   ],
   "source": [
    "model_desc = []\n",
    "model_comparison_DF = pd.DataFrame(model_desc, columns=['model', 'accuracy', 'precision', 'recall', 'F1 score'])\n",
    "model_comparison_DF"
   ]
  },
  {
   "cell_type": "code",
   "execution_count": 5,
   "id": "5e651458-9ec9-41cc-9c47-f214879a1245",
   "metadata": {},
   "outputs": [],
   "source": [
    "x = aki_df.drop(columns=['dod', 'Unnamed: 0', 'subject_id'])\n",
    "y = aki_df['dod']\n",
    "\n",
    "def linearTester(model_desc, model, x, y, title='alg'):\n",
    "    total_acc = 0\n",
    "    total_pre = 0\n",
    "    total_rec = 0\n",
    "    total_f1 = 0\n",
    "    total = len(seed_list)\n",
    "    for rand in seed_list:\n",
    "        x_train, x_test, y_train, y_test = train_test_split(x, y,stratify=y, test_size=0.25, random_state=rand)\n",
    "        model.fit(x_train, y_train)\n",
    "        y_pred_lin = model.predict(x_test)\n",
    "        y_pred_bin = [1 if y > 0.5 else 0 for y in y_pred_lin]\n",
    "        total_acc += accuracy_score(y_test, y_pred_bin)\n",
    "        total_pre += precision_score(y_test, y_pred_bin)\n",
    "        total_rec += recall_score(y_test, y_pred_bin)\n",
    "        total_f1 += f1_score(y_test, y_pred_bin)\n",
    "\n",
    "    model_desc.append([\n",
    "        str(model),\n",
    "        total_acc/total,\n",
    "        total_pre/total,\n",
    "        total_rec/total,\n",
    "        total_f1/total\n",
    "        \n",
    "                      ])\n",
    "    # Evaluate\n",
    "    print(f\"{title}\")\n",
    "    print('--------------------------------------------')\n",
    "    print(\"Accuracy:\", total_acc/total,)\n",
    "    print(\"Precision: \", total_pre/total,)\n",
    "    print(\"recall: \", total_rec/total,)\n",
    "    print(\"f1_score: \", total_f1/total,)\n",
    "    print('--------------------------------------------')\n",
    "    # print(\"Classification Report:\\n\", classification_report(y_test, y_pred_bin))\n",
    "    plt.show()\n",
    "    "
   ]
  },
  {
   "cell_type": "code",
   "execution_count": 6,
   "id": "9ba1e68c-3709-4caf-9282-5ee9146c928d",
   "metadata": {},
   "outputs": [
    {
     "name": "stdout",
     "output_type": "stream",
     "text": [
      "Linear Regression baseline\n",
      "--------------------------------------------\n",
      "Accuracy: 0.84027721157766\n",
      "Precision:  0.7283479660626826\n",
      "recall:  0.09012048192771084\n",
      "f1_score:  0.16009707044429883\n",
      "--------------------------------------------\n"
     ]
    }
   ],
   "source": [
    "lin_reg = linear_model.LinearRegression()\n",
    "linearTester(model_desc, lin_reg, x, y,'Linear Regression baseline')"
   ]
  },
  {
   "cell_type": "markdown",
   "id": "fe4bbd2d-a229-41f1-bec1-a8da13a20549",
   "metadata": {},
   "source": [
    "Baseline model, accuracy of approximately 0.8445"
   ]
  },
  {
   "cell_type": "code",
   "execution_count": 7,
   "id": "273e64cb-3466-463e-bec2-789eff2489ea",
   "metadata": {},
   "outputs": [],
   "source": [
    "x = aki_df.drop(columns=['dod','Sodium','Hemoglobin','gender','hypertension','Intercept'])\n",
    "y = aki_df['dod']\n",
    "x_train, x_test, y_train, y_test = train_test_split(x, y,stratify=y, test_size=0.2, random_state=seed_list[0])"
   ]
  },
  {
   "cell_type": "code",
   "execution_count": 8,
   "id": "3de3dec9-5668-459d-af77-3c5b37e22860",
   "metadata": {},
   "outputs": [
    {
     "name": "stdout",
     "output_type": "stream",
     "text": [
      "Linear Regression modified feature\n",
      "--------------------------------------------\n",
      "Accuracy: 0.84097024052181\n",
      "Precision:  0.752637728909679\n",
      "recall:  0.08987951807228914\n",
      "f1_score:  0.16033765861952176\n",
      "--------------------------------------------\n"
     ]
    }
   ],
   "source": [
    "linearTester(model_desc,lin_reg, x, y,'Linear Regression modified feature')"
   ]
  },
  {
   "cell_type": "markdown",
   "id": "a113e091-678e-42c5-828e-ec8b905e84a8",
   "metadata": {},
   "source": [
    "New Feature Baseline model, accuracy of approximately 0.8460"
   ]
  },
  {
   "cell_type": "code",
   "execution_count": 9,
   "id": "9c1e3b91-361c-4b35-b172-090d1c28fa11",
   "metadata": {},
   "outputs": [],
   "source": [
    "alpha = [0,0.01,0.1,0.2,0.5,1,5,10,100]\n",
    "solver = ['svd', 'cholesky', 'lsqr', 'sparse_cg', 'sag', 'saga', 'lbfgs']\n",
    "ridge_grid = {\n",
    "    'alpha': alpha,\n",
    "    'solver': solver,\n",
    "}"
   ]
  },
  {
   "cell_type": "code",
   "execution_count": 10,
   "id": "698207dd-4ecb-44e5-9535-b85a2112e740",
   "metadata": {},
   "outputs": [
    {
     "name": "stdout",
     "output_type": "stream",
     "text": [
      "Fitting 3 folds for each of 63 candidates, totalling 189 fits\n"
     ]
    },
    {
     "data": {
      "text/plain": [
       "{'alpha': 10, 'solver': 'svd'}"
      ]
     },
     "execution_count": 10,
     "metadata": {},
     "output_type": "execute_result"
    }
   ],
   "source": [
    "ridge_grid = GridSearchCV(estimator = linear_model.Ridge(), param_grid = ridge_grid, cv = 3, verbose =2, n_jobs = 4)\n",
    "ridge_grid.fit(x_train, y_train)\n",
    "ridge_grid.best_params_"
   ]
  },
  {
   "cell_type": "code",
   "execution_count": 11,
   "id": "4b674319-284e-4277-9d03-559f04e6eaa2",
   "metadata": {},
   "outputs": [
    {
     "name": "stdout",
     "output_type": "stream",
     "text": [
      "Linear Ridge modified feature\n",
      "--------------------------------------------\n",
      "Accuracy: 0.84097024052181\n",
      "Precision:  0.7524346181802525\n",
      "recall:  0.08987951807228914\n",
      "f1_score:  0.1603119140111063\n",
      "--------------------------------------------\n"
     ]
    }
   ],
   "source": [
    "ridge_model = linear_model.Ridge(alpha=10, solver='svd')\n",
    "linearTester(model_desc, ridge_model, x, y,'Linear Ridge modified feature')"
   ]
  },
  {
   "cell_type": "code",
   "execution_count": 12,
   "id": "8e64596e-be1c-4ade-8178-430b19b92915",
   "metadata": {},
   "outputs": [
    {
     "name": "stdout",
     "output_type": "stream",
     "text": [
      "Fitting 3 folds for each of 11 candidates, totalling 33 fits\n"
     ]
    },
    {
     "data": {
      "text/plain": [
       "{'alpha': 1e-05}"
      ]
     },
     "execution_count": 12,
     "metadata": {},
     "output_type": "execute_result"
    }
   ],
   "source": [
    "alpha = [0.00001,0.001,0.01,0.1,0.2,0.5,1,5,10,50,100]\n",
    "solver = ['auto', 'svd', 'cholesky', 'lsqr', 'sparse_cg', 'sag', 'saga', 'lbfgs']\n",
    "lasso_grid = {\n",
    "    'alpha': alpha,\n",
    "}\n",
    "lasso_grid = GridSearchCV(estimator = linear_model.Lasso(), param_grid = lasso_grid, cv = 3, verbose =2, n_jobs = 4)\n",
    "lasso_grid.fit(x_train, y_train)\n",
    "lasso_grid.best_params_"
   ]
  },
  {
   "cell_type": "code",
   "execution_count": 13,
   "id": "0dd65169-e4f2-4a60-a424-94e59fb01627",
   "metadata": {},
   "outputs": [
    {
     "name": "stdout",
     "output_type": "stream",
     "text": [
      "Linear lasso modified feature\n",
      "--------------------------------------------\n",
      "Accuracy: 0.84097024052181\n",
      "Precision:  0.752637728909679\n",
      "recall:  0.08987951807228914\n",
      "f1_score:  0.16033765861952176\n",
      "--------------------------------------------\n"
     ]
    }
   ],
   "source": [
    "lasso_model = linear_model.Lasso(alpha=0.00001)\n",
    "linearTester(model_desc, lasso_model, x, y,'Linear lasso modified feature')"
   ]
  },
  {
   "cell_type": "code",
   "execution_count": 14,
   "id": "f00d9856-c613-44b5-ac0c-0463560a88bb",
   "metadata": {},
   "outputs": [
    {
     "name": "stdout",
     "output_type": "stream",
     "text": [
      "Linear ElasticNet modified feature\n",
      "--------------------------------------------\n",
      "Accuracy: 0.8333061557276803\n",
      "Precision:  0.6841302118933698\n",
      "recall:  0.028915662650602414\n",
      "f1_score:  0.05536895936216544\n",
      "--------------------------------------------\n"
     ]
    }
   ],
   "source": [
    "EN_model = linear_model.ElasticNet(alpha=0.1)\n",
    "EN_model.fit(x_train, y_train)\n",
    "linearTester(model_desc, EN_model, x, y,'Linear ElasticNet modified feature')"
   ]
  },
  {
   "cell_type": "code",
   "execution_count": 15,
   "id": "e61fb689-3684-4290-89e3-facdee52e5f2",
   "metadata": {},
   "outputs": [
    {
     "name": "stdout",
     "output_type": "stream",
     "text": [
      "Linear Baysian Ridge modified feature\n",
      "--------------------------------------------\n",
      "Accuracy: 0.8406033428454954\n",
      "Precision:  0.7556715923723959\n",
      "recall:  0.08578313253012047\n",
      "f1_score:  0.1537272180504024\n",
      "--------------------------------------------\n"
     ]
    }
   ],
   "source": [
    "bayridge_model = linear_model.BayesianRidge()\n",
    "bayridge_model.fit(x_train, y_train)\n",
    "linearTester(model_desc, bayridge_model, x, y,'Linear Baysian Ridge modified feature')"
   ]
  },
  {
   "cell_type": "markdown",
   "id": "13570cb4-93f0-419f-b219-7ef157bf6115",
   "metadata": {},
   "source": [
    "Create an Ensemble of all linear models to create a majority ruling model"
   ]
  },
  {
   "cell_type": "code",
   "execution_count": 16,
   "id": "44dcf2c5-b026-4947-b8e8-4ef90f551750",
   "metadata": {},
   "outputs": [],
   "source": [
    "def linearEnsemble(model_list, model_desc, x, y, title='Combined Ensemble'):\n",
    "    prediction_list = []\n",
    "    total_acc = 0\n",
    "    total_pre = 0\n",
    "    total_rec = 0\n",
    "    total_f1 = 0\n",
    "    total = len(seed_list)\n",
    "    \n",
    "    for rand in seed_list:\n",
    "        prediction_list = []\n",
    "        for model in model_list:\n",
    "            x_train, x_test, y_train, y_test = train_test_split(x, y,stratify=y, test_size=0.25, random_state=seed_list[0])\n",
    "            model.fit(x_train, y_train)\n",
    "            y_pred_lin = model.predict(x_test)\n",
    "            y_pred_bin = [1 if y > 0.5 else 0 for y in y_pred_lin]\n",
    "            prediction_list.append(y_pred_bin)\n",
    "\n",
    "        prediction_list = [sum(x) for x in zip(*prediction_list)]\n",
    "        final_prediction = []\n",
    "        for pred in prediction_list:\n",
    "            if pred >0:\n",
    "                final_prediction.append(1)\n",
    "            else:\n",
    "                final_prediction.append(0)\n",
    "                \n",
    "        total_acc += accuracy_score(y_test, final_prediction)\n",
    "        total_pre += precision_score(y_test, final_prediction)\n",
    "        total_rec += recall_score(y_test, final_prediction)\n",
    "        total_f1 += f1_score(y_test, final_prediction)\n",
    "\n",
    "\n",
    "    model_desc.append([\n",
    "        \"Linear Regression Ensemble\",\n",
    "        total_acc/total,\n",
    "        total_pre/total,\n",
    "        total_rec/total,\n",
    "        total_f1/total\n",
    "                      ])\n",
    "    \n",
    "    # Evaluate\n",
    "    print(f\"{title}\")\n",
    "    print('--------------------------------------------')\n",
    "    print(\"Accuracy:\", accuracy_score(y_test, final_prediction))\n",
    "    print(\"Precision: \", precision_score(y_test, final_prediction))\n",
    "    print(\"recall: \", recall_score(y_test, final_prediction))\n",
    "    print(\"f1_score: \", f1_score(y_test, final_prediction))\n",
    "    print('--------------------------------------------')\n",
    "    # print(\"Classification Report:\\n\", classification_report(y_test, y_pred_bin))\n",
    "    plt.show()"
   ]
  },
  {
   "cell_type": "code",
   "execution_count": 17,
   "id": "db9380b0-791d-42cd-a2d0-1c33d889217d",
   "metadata": {},
   "outputs": [
    {
     "name": "stdout",
     "output_type": "stream",
     "text": [
      "Ensemble\n",
      "--------------------------------------------\n",
      "Accuracy: 0.8446799836934366\n",
      "Precision:  0.7931034482758621\n",
      "recall:  0.1108433734939759\n",
      "f1_score:  0.19450317124735728\n",
      "--------------------------------------------\n"
     ]
    }
   ],
   "source": [
    "model_list = [lin_reg, ridge_model, lasso_model, EN_model, bayridge_model]\n",
    "linearEnsemble(model_list, model_desc, x, y, title='Ensemble')"
   ]
  },
  {
   "cell_type": "code",
   "execution_count": 18,
   "id": "8569f6fa-98be-49ec-b022-8eb76b40ac0b",
   "metadata": {},
   "outputs": [
    {
     "data": {
      "text/html": [
       "<div>\n",
       "<style scoped>\n",
       "    .dataframe tbody tr th:only-of-type {\n",
       "        vertical-align: middle;\n",
       "    }\n",
       "\n",
       "    .dataframe tbody tr th {\n",
       "        vertical-align: top;\n",
       "    }\n",
       "\n",
       "    .dataframe thead th {\n",
       "        text-align: right;\n",
       "    }\n",
       "</style>\n",
       "<table border=\"1\" class=\"dataframe\">\n",
       "  <thead>\n",
       "    <tr style=\"text-align: right;\">\n",
       "      <th></th>\n",
       "      <th>model</th>\n",
       "      <th>accuracy</th>\n",
       "      <th>precision</th>\n",
       "      <th>recall</th>\n",
       "      <th>F1 score</th>\n",
       "    </tr>\n",
       "  </thead>\n",
       "  <tbody>\n",
       "    <tr>\n",
       "      <th>0</th>\n",
       "      <td>LinearRegression()</td>\n",
       "      <td>0.840277</td>\n",
       "      <td>0.728348</td>\n",
       "      <td>0.090120</td>\n",
       "      <td>0.160097</td>\n",
       "    </tr>\n",
       "    <tr>\n",
       "      <th>1</th>\n",
       "      <td>LinearRegression()</td>\n",
       "      <td>0.840970</td>\n",
       "      <td>0.752638</td>\n",
       "      <td>0.089880</td>\n",
       "      <td>0.160338</td>\n",
       "    </tr>\n",
       "    <tr>\n",
       "      <th>2</th>\n",
       "      <td>Ridge(alpha=10, solver='svd')</td>\n",
       "      <td>0.840970</td>\n",
       "      <td>0.752435</td>\n",
       "      <td>0.089880</td>\n",
       "      <td>0.160312</td>\n",
       "    </tr>\n",
       "    <tr>\n",
       "      <th>3</th>\n",
       "      <td>Lasso(alpha=1e-05)</td>\n",
       "      <td>0.840970</td>\n",
       "      <td>0.752638</td>\n",
       "      <td>0.089880</td>\n",
       "      <td>0.160338</td>\n",
       "    </tr>\n",
       "    <tr>\n",
       "      <th>4</th>\n",
       "      <td>ElasticNet(alpha=0.1)</td>\n",
       "      <td>0.833306</td>\n",
       "      <td>0.684130</td>\n",
       "      <td>0.028916</td>\n",
       "      <td>0.055369</td>\n",
       "    </tr>\n",
       "    <tr>\n",
       "      <th>5</th>\n",
       "      <td>BayesianRidge()</td>\n",
       "      <td>0.840603</td>\n",
       "      <td>0.755672</td>\n",
       "      <td>0.085783</td>\n",
       "      <td>0.153727</td>\n",
       "    </tr>\n",
       "    <tr>\n",
       "      <th>6</th>\n",
       "      <td>Linear Regression Ensemble</td>\n",
       "      <td>0.844680</td>\n",
       "      <td>0.793103</td>\n",
       "      <td>0.110843</td>\n",
       "      <td>0.194503</td>\n",
       "    </tr>\n",
       "  </tbody>\n",
       "</table>\n",
       "</div>"
      ],
      "text/plain": [
       "                           model  accuracy  precision    recall  F1 score\n",
       "0             LinearRegression()  0.840277   0.728348  0.090120  0.160097\n",
       "1             LinearRegression()  0.840970   0.752638  0.089880  0.160338\n",
       "2  Ridge(alpha=10, solver='svd')  0.840970   0.752435  0.089880  0.160312\n",
       "3             Lasso(alpha=1e-05)  0.840970   0.752638  0.089880  0.160338\n",
       "4          ElasticNet(alpha=0.1)  0.833306   0.684130  0.028916  0.055369\n",
       "5                BayesianRidge()  0.840603   0.755672  0.085783  0.153727\n",
       "6     Linear Regression Ensemble  0.844680   0.793103  0.110843  0.194503"
      ]
     },
     "execution_count": 18,
     "metadata": {},
     "output_type": "execute_result"
    }
   ],
   "source": [
    "model_comparison_DF = pd.DataFrame(model_desc, columns=['model', 'accuracy', 'precision', 'recall', 'F1 score'])\n",
    "model_comparison_DF"
   ]
  },
  {
   "cell_type": "markdown",
   "id": "90995931-2ce7-4f9e-8409-00da0ba68381",
   "metadata": {},
   "source": [
    "It appears that the base linear Regression performs identical to Ridge and Lasso normalised iterations\\\n",
    "This is for iterations that utilised the reduced feature set. \\\n",
    "Creating an Ensemble of these models provides a small increase in accuracy and F1 scores"
   ]
  },
  {
   "cell_type": "code",
   "execution_count": null,
   "id": "91d65f10-df15-4167-ad43-d512c28d7131",
   "metadata": {},
   "outputs": [],
   "source": []
  }
 ],
 "metadata": {
  "kernelspec": {
   "display_name": "Python 3 (ipykernel)",
   "language": "python",
   "name": "python3"
  },
  "language_info": {
   "codemirror_mode": {
    "name": "ipython",
    "version": 3
   },
   "file_extension": ".py",
   "mimetype": "text/x-python",
   "name": "python",
   "nbconvert_exporter": "python",
   "pygments_lexer": "ipython3",
   "version": "3.10.9"
  }
 },
 "nbformat": 4,
 "nbformat_minor": 5
}
